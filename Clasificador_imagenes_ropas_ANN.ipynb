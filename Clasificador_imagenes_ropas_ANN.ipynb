{
  "cells": [
    {
      "cell_type": "markdown",
      "metadata": {
        "id": "iiDzBoKGwmMZ"
      },
      "source": [
        "# REDES NEURONALES\n",
        "\n",
        "Este fue el dataset utilizado: [este enlace](https://github.com/zalandoresearch/fashion-mnist).\n",
        "\n"
      ]
    },
    {
      "cell_type": "code",
      "execution_count": 4,
      "metadata": {
        "id": "gSHr268SwmMa"
      },
      "outputs": [],
      "source": [
        "import keras\n",
        "from keras.datasets import fashion_mnist\n",
        "from keras.models import Sequential\n",
        "from keras.layers import Dense\n",
        "import tensorflow as tf\n",
        "\n",
        "import matplotlib.pyplot as plt"
      ]
    },
    {
      "cell_type": "code",
      "execution_count": 5,
      "metadata": {
        "id": "4voG2hxxG4h3"
      },
      "outputs": [],
      "source": [
        "mnist = tf.keras.datasets.fashion_mnist"
      ]
    },
    {
      "cell_type": "code",
      "execution_count": 6,
      "metadata": {
        "colab": {
          "base_uri": "https://localhost:8080/"
        },
        "id": "1muD4PHEG4h6",
        "outputId": "2f6beb46-3176-4adf-a64b-6dab9ea81bbe"
      },
      "outputs": [],
      "source": [
        "(training_images, training_labels), (test_images, test_labels) = mnist.load_data()"
      ]
    },
    {
      "cell_type": "code",
      "execution_count": 7,
      "metadata": {
        "colab": {
          "base_uri": "https://localhost:8080/",
          "height": 785
        },
        "id": "t5a5PlswG4h8",
        "outputId": "2edeb68d-fcba-4f20-c49a-f80a5c51b012"
      },
      "outputs": [
        {
          "name": "stdout",
          "output_type": "stream",
          "text": [
            "9\n",
            "[[  0   0   0   0   0   0   0   0   0   0   0   0   0   0   0   0   0   0   0   0   0   0   0   0   0   0   0   0]\n",
            " [  0   0   0   0   0   0   0   0   0   0   0   0   0   0   0   0   0   0   0   0   0   0   0   0   0   0   0   0]\n",
            " [  0   0   0   0   0   0   0   0   0   0   0   0   0   0   0   0   0   0   0   0   0   0   0   0   0   0   0   0]\n",
            " [  0   0   0   0   0   0   0   0   0   0   0   0   1   0   0  13  73   0   0   1   4   0   0   0   0   1   1   0]\n",
            " [  0   0   0   0   0   0   0   0   0   0   0   0   3   0  36 136 127  62  54   0   0   0   1   3   4   0   0   3]\n",
            " [  0   0   0   0   0   0   0   0   0   0   0   0   6   0 102 204 176 134 144 123  23   0   0   0   0  12  10   0]\n",
            " [  0   0   0   0   0   0   0   0   0   0   0   0   0   0 155 236 207 178 107 156 161 109  64  23  77 130  72  15]\n",
            " [  0   0   0   0   0   0   0   0   0   0   0   1   0  69 207 223 218 216 216 163 127 121 122 146 141  88 172  66]\n",
            " [  0   0   0   0   0   0   0   0   0   1   1   1   0 200 232 232 233 229 223 223 215 213 164 127 123 196 229   0]\n",
            " [  0   0   0   0   0   0   0   0   0   0   0   0   0 183 225 216 223 228 235 227 224 222 224 221 223 245 173   0]\n",
            " [  0   0   0   0   0   0   0   0   0   0   0   0   0 193 228 218 213 198 180 212 210 211 213 223 220 243 202   0]\n",
            " [  0   0   0   0   0   0   0   0   0   1   3   0  12 219 220 212 218 192 169 227 208 218 224 212 226 197 209  52]\n",
            " [  0   0   0   0   0   0   0   0   0   0   6   0  99 244 222 220 218 203 198 221 215 213 222 220 245 119 167  56]\n",
            " [  0   0   0   0   0   0   0   0   0   4   0   0  55 236 228 230 228 240 232 213 218 223 234 217 217 209  92   0]\n",
            " [  0   0   1   4   6   7   2   0   0   0   0   0 237 226 217 223 222 219 222 221 216 223 229 215 218 255  77   0]\n",
            " [  0   3   0   0   0   0   0   0   0  62 145 204 228 207 213 221 218 208 211 218 224 223 219 215 224 244 159   0]\n",
            " [  0   0   0   0  18  44  82 107 189 228 220 222 217 226 200 205 211 230 224 234 176 188 250 248 233 238 215   0]\n",
            " [  0  57 187 208 224 221 224 208 204 214 208 209 200 159 245 193 206 223 255 255 221 234 221 211 220 232 246   0]\n",
            " [  3 202 228 224 221 211 211 214 205 205 205 220 240  80 150 255 229 221 188 154 191 210 204 209 222 228 225   0]\n",
            " [ 98 233 198 210 222 229 229 234 249 220 194 215 217 241  65  73 106 117 168 219 221 215 217 223 223 224 229  29]\n",
            " [ 75 204 212 204 193 205 211 225 216 185 197 206 198 213 240 195 227 245 239 223 218 212 209 222 220 221 230  67]\n",
            " [ 48 203 183 194 213 197 185 190 194 192 202 214 219 221 220 236 225 216 199 206 186 181 177 172 181 205 206 115]\n",
            " [  0 122 219 193 179 171 183 196 204 210 213 207 211 210 200 196 194 191 195 191 198 192 176 156 167 177 210  92]\n",
            " [  0   0  74 189 212 191 175 172 175 181 185 188 189 188 193 198 204 209 210 210 211 188 188 194 192 216 170   0]\n",
            " [  2   0   0   0  66 200 222 237 239 242 246 243 244 221 220 193 191 179 182 182 181 176 166 168  99  58   0   0]\n",
            " [  0   0   0   0   0   0   0  40  61  44  72  41  35   0   0   0   0   0   0   0   0   0   0   0   0   0   0   0]\n",
            " [  0   0   0   0   0   0   0   0   0   0   0   0   0   0   0   0   0   0   0   0   0   0   0   0   0   0   0   0]\n",
            " [  0   0   0   0   0   0   0   0   0   0   0   0   0   0   0   0   0   0   0   0   0   0   0   0   0   0   0   0]]\n"
          ]
        },
        {
          "data": {
            "image/png": "[encoded data removed]",
            "text/plain": [
              "<Figure size 640x480 with 1 Axes>"
            ]
          },
          "metadata": {},
          "output_type": "display_data"
        }
      ],
      "source": [
        "import numpy as np\n",
        "np.set_printoptions(linewidth=200)\n",
        "import matplotlib.pyplot as plt\n",
        "plt.imshow(training_images[0], cmap=\"gray\") # recordad que siempre es preferible trabajar en blanco y negro\n",
        "#\n",
        "print(training_labels[0])\n",
        "print(training_images[0])"
      ]
    },
    {
      "cell_type": "code",
      "execution_count": 8,
      "metadata": {
        "id": "tojL1BmjG4h_"
      },
      "outputs": [],
      "source": [
        "training_images  = training_images / 255.0\n",
        "test_images = test_images / 255.0"
      ]
    },
    {
      "cell_type": "markdown",
      "metadata": {
        "id": "BaqXlSMBwmMg"
      },
      "source": [
        "##  Información sobre el dataset"
      ]
    },
    {
      "cell_type": "code",
      "execution_count": 9,
      "metadata": {
        "id": "lvP0Y4SCwmMi"
      },
      "outputs": [
        {
          "name": "stdout",
          "output_type": "stream",
          "text": [
            "Cantidad de imágenes en el conjunto de train: 60000\n",
            "Tamaño de las imágenes en el conjunto de train: (28, 28)\n",
            "Cantidad de imágenes en el conjunto de test: 10000\n",
            "Tamaño de las imágenes en el conjunto de test: (28, 28)\n"
          ]
        }
      ],
      "source": [
        "training_images_cuenta= len(training_images)\n",
        "train_image_shape = training_images[0].shape\n",
        "\n",
        "\n",
        "test_images_cuenta= len(test_images)\n",
        "test_image_shape = test_images[0].shape\n",
        "\n",
        "print(\"Cantidad de imágenes en el conjunto de train:\", training_images_cuenta)\n",
        "print(\"Tamaño de las imágenes en el conjunto de train:\", train_image_shape)\n",
        "print(\"Cantidad de imágenes en el conjunto de test:\", test_images_cuenta)\n",
        "print(\"Tamaño de las imágenes en el conjunto de test:\", test_image_shape)"
      ]
    },
    {
      "cell_type": "code",
      "execution_count": 10,
      "metadata": {},
      "outputs": [
        {
          "data": {
            "image/png": "[encoded data removed]",
            "text/plain": [
              "<Figure size 640x480 with 1 Axes>"
            ]
          },
          "metadata": {},
          "output_type": "display_data"
        },
        {
          "name": "stdout",
          "output_type": "stream",
          "text": [
            "Información de la imagen:\n",
            "Dimensiones: (28, 28)\n",
            "Resolución de la imagen: 28x28 píxeles\n",
            "Número total de píxeles en la imagen: 784\n",
            "Valor mínimo de píxel (negro): 0.0\n",
            "Valor máximo de píxel (blanco): 1.0\n",
            "Valor medio de píxel: 0.3813875550220088\n",
            "Desviación estándar de los valores de píxel: 0.3991856713852833\n"
          ]
        }
      ],
      "source": [
        "example_index = 0\n",
        "example_image = training_images[example_index]\n",
        "example_label = training_labels[example_index]\n",
        "\n",
        "plt.imshow(example_image, cmap='gray')\n",
        "plt.title(\"Imagen de ejemplo (Etiqueta: {})\".format(example_label))\n",
        "plt.axis('off')\n",
        "plt.show()\n",
        "\n",
        "print(\"Información de la imagen:\")\n",
        "print(\"Dimensiones:\", example_image.shape)\n",
        "print(\"Resolución de la imagen: {}x{} píxeles\".format(example_image.shape[0], example_image.shape[1]))\n",
        "print(\"Número total de píxeles en la imagen:\", example_image.size)\n",
        "print(\"Valor mínimo de píxel (negro):\", np.min(example_image))\n",
        "print(\"Valor máximo de píxel (blanco):\", np.max(example_image))\n",
        "print(\"Valor medio de píxel:\", np.mean(example_image))\n",
        "print(\"Desviación estándar de los valores de píxel:\", np.std(example_image))"
      ]
    },
    {
      "cell_type": "code",
      "execution_count": 11,
      "metadata": {},
      "outputs": [
        {
          "data": {
            "image/png": "[encoded data removed]",
            "text/plain": [
              "<Figure size 1000x1000 with 25 Axes>"
            ]
          },
          "metadata": {},
          "output_type": "display_data"
        },
        {
          "name": "stdout",
          "output_type": "stream",
          "text": [
            "Etiquetas únicas: [0 1 2 3 4 5 6 7 8 9]\n",
            "Frecuencia de cada clase: {0: 6000, 1: 6000, 2: 6000, 3: 6000, 4: 6000, 5: 6000, 6: 6000, 7: 6000, 8: 6000, 9: 6000}\n"
          ]
        }
      ],
      "source": [
        "plt.figure(figsize=(10, 10))\n",
        "for i in range(25):\n",
        "    plt.subplot(5, 5, i+1)\n",
        "    plt.xticks([])\n",
        "    plt.yticks([])\n",
        "    plt.grid(False)\n",
        "    plt.imshow(training_images[i], cmap='gray')\n",
        "    plt.xlabel(training_labels[i])\n",
        "plt.show()\n",
        "\n",
        "# Exploración de las etiquetas\n",
        "# Imprimir las etiquetas únicas y contar la frecuencia de cada clase\n",
        "unique_labels = np.unique(training_labels)\n",
        "print(\"Etiquetas únicas:\", unique_labels)\n",
        "label_counts = {label: np.sum(training_labels == label) for label in unique_labels}\n",
        "print(\"Frecuencia de cada clase:\", label_counts)"
      ]
    },
    {
      "cell_type": "markdown",
      "metadata": {
        "id": "dI3IAhOQ8zHi"
      },
      "source": [
        "## Creación del Modelo"
      ]
    },
    {
      "cell_type": "code",
      "execution_count": 12,
      "metadata": {
        "id": "aTaD2QXIORwu"
      },
      "outputs": [
        {
          "name": "stdout",
          "output_type": "stream",
          "text": [
            "Epoch 1/10\n",
            "\u001b[1m938/938\u001b[0m \u001b[32m━━━━━━━━━━━━━━━━━━━━\u001b[0m\u001b[37m\u001b[0m \u001b[1m4s\u001b[0m 3ms/step - accuracy: 0.7454 - loss: 0.8213 - val_accuracy: 0.8322 - val_loss: 0.4691\n",
            "Epoch 2/10\n",
            "\u001b[1m938/938\u001b[0m \u001b[32m━━━━━━━━━━━━━━━━━━━━\u001b[0m\u001b[37m\u001b[0m \u001b[1m3s\u001b[0m 3ms/step - accuracy: 0.8503 - loss: 0.4200 - val_accuracy: 0.8518 - val_loss: 0.4155\n",
            "Epoch 3/10\n",
            "\u001b[1m938/938\u001b[0m \u001b[32m━━━━━━━━━━━━━━━━━━━━\u001b[0m\u001b[37m\u001b[0m \u001b[1m3s\u001b[0m 3ms/step - accuracy: 0.8636 - loss: 0.3790 - val_accuracy: 0.8523 - val_loss: 0.4078\n",
            "Epoch 4/10\n",
            "\u001b[1m938/938\u001b[0m \u001b[32m━━━━━━━━━━━━━━━━━━━━\u001b[0m\u001b[37m\u001b[0m \u001b[1m3s\u001b[0m 3ms/step - accuracy: 0.8728 - loss: 0.3509 - val_accuracy: 0.8657 - val_loss: 0.3767\n",
            "Epoch 5/10\n",
            "\u001b[1m938/938\u001b[0m \u001b[32m━━━━━━━━━━━━━━━━━━━━\u001b[0m\u001b[37m\u001b[0m \u001b[1m3s\u001b[0m 3ms/step - accuracy: 0.8813 - loss: 0.3279 - val_accuracy: 0.8652 - val_loss: 0.3704\n",
            "Epoch 6/10\n",
            "\u001b[1m938/938\u001b[0m \u001b[32m━━━━━━━━━━━━━━━━━━━━\u001b[0m\u001b[37m\u001b[0m \u001b[1m3s\u001b[0m 3ms/step - accuracy: 0.8867 - loss: 0.3151 - val_accuracy: 0.8702 - val_loss: 0.3589\n",
            "Epoch 7/10\n",
            "\u001b[1m938/938\u001b[0m \u001b[32m━━━━━━━━━━━━━━━━━━━━\u001b[0m\u001b[37m\u001b[0m \u001b[1m3s\u001b[0m 3ms/step - accuracy: 0.8904 - loss: 0.3066 - val_accuracy: 0.8747 - val_loss: 0.3526\n",
            "Epoch 8/10\n",
            "\u001b[1m938/938\u001b[0m \u001b[32m━━━━━━━━━━━━━━━━━━━━\u001b[0m\u001b[37m\u001b[0m \u001b[1m3s\u001b[0m 3ms/step - accuracy: 0.8951 - loss: 0.2885 - val_accuracy: 0.8746 - val_loss: 0.3422\n",
            "Epoch 9/10\n",
            "\u001b[1m938/938\u001b[0m \u001b[32m━━━━━━━━━━━━━━━━━━━━\u001b[0m\u001b[37m\u001b[0m \u001b[1m3s\u001b[0m 3ms/step - accuracy: 0.8992 - loss: 0.2778 - val_accuracy: 0.8759 - val_loss: 0.3424\n",
            "Epoch 10/10\n",
            "\u001b[1m938/938\u001b[0m \u001b[32m━━━━━━━━━━━━━━━━━━━━\u001b[0m\u001b[37m\u001b[0m \u001b[1m3s\u001b[0m 3ms/step - accuracy: 0.8986 - loss: 0.2764 - val_accuracy: 0.8767 - val_loss: 0.3394\n",
            "Epoch 1: Loss=0.5929, Accuracy=0.8047, Val Loss=0.4691, Val Accuracy=0.8322\n",
            "Epoch 2: Loss=0.4103, Accuracy=0.8537, Val Loss=0.4155, Val Accuracy=0.8518\n",
            "Epoch 3: Loss=0.3730, Accuracy=0.8656, Val Loss=0.4078, Val Accuracy=0.8523\n",
            "Epoch 4: Loss=0.3481, Accuracy=0.8741, Val Loss=0.3767, Val Accuracy=0.8657\n",
            "Epoch 5: Loss=0.3309, Accuracy=0.8817, Val Loss=0.3704, Val Accuracy=0.8652\n",
            "Epoch 6: Loss=0.3148, Accuracy=0.8859, Val Loss=0.3589, Val Accuracy=0.8702\n",
            "Epoch 7: Loss=0.3025, Accuracy=0.8913, Val Loss=0.3526, Val Accuracy=0.8747\n",
            "Epoch 8: Loss=0.2909, Accuracy=0.8944, Val Loss=0.3422, Val Accuracy=0.8746\n",
            "Epoch 9: Loss=0.2816, Accuracy=0.8970, Val Loss=0.3424, Val Accuracy=0.8759\n",
            "Epoch 10: Loss=0.2717, Accuracy=0.9007, Val Loss=0.3394, Val Accuracy=0.8767\n"
          ]
        }
      ],
      "source": [
        "from tensorflow.keras import layers, models\n",
        "\n",
        "# Requisitos del modelo:\n",
        "# Hidden layer de 128 unidades, activación sigmoid y optimizador Adam\n",
        "# Última capa con activación softmax\n",
        "\n",
        "(train_images, train_labels), (test_images, test_labels) = fashion_mnist.load_data()\n",
        "train_images = train_images / 255.0\n",
        "test_images = test_images / 255.0\n",
        "\n",
        "model = models.Sequential([\n",
        "    layers.Input(shape=(28, 28)),  # Usando Input para definir la forma de entrada\n",
        "    layers.Flatten(),  # Capa de aplanamiento\n",
        "    layers.Dense(128, activation='sigmoid'),  \n",
        "    layers.Dense(10, activation='softmax')  \n",
        "])\n",
        "\n",
        "model.compile(optimizer='adam',\n",
        "              loss='sparse_categorical_crossentropy',\n",
        "              metrics=['accuracy'])\n",
        "\n",
        "# Se piden 10 epochs y un batch size de 64 \n",
        "history = model.fit(train_images, train_labels, epochs=10, batch_size=64, validation_data=(test_images, test_labels))\n",
        "\n",
        "# Se muestran también los resultados de loss y accuracy por cada epoch\n",
        "losses = history.history['loss']\n",
        "accuracies = history.history['accuracy']\n",
        "val_losses = history.history['val_loss']\n",
        "val_accuracies = history.history['val_accuracy']\n",
        "\n",
        "for epoch in range(len(losses)):\n",
        "    print(\"Epoch {}: Loss={:.4f}, Accuracy={:.4f}, Val Loss={:.4f}, Val Accuracy={:.4f}\"\n",
        "          .format(epoch+1, losses[epoch], accuracies[epoch], val_losses[epoch], val_accuracies[epoch]))\n"
      ]
    },
    {
      "cell_type": "code",
      "execution_count": 13,
      "metadata": {
        "id": "VNjQEtUUG4iI"
      },
      "outputs": [
        {
          "name": "stdout",
          "output_type": "stream",
          "text": [
            "\u001b[1m313/313\u001b[0m \u001b[32m━━━━━━━━━━━━━━━━━━━━\u001b[0m\u001b[37m\u001b[0m \u001b[1m1s\u001b[0m 2ms/step - accuracy: 0.8793 - loss: 0.3377\n",
            "Loss en el conjunto de datos de prueba: 0.3399527072906494\n",
            "Accuracy en el conjunto de datos de prueba: 0.8766999840736389\n"
          ]
        }
      ],
      "source": [
        "#Procedí a realizar una evaluación del modelo a través de métricas de loss o pérdida y la precisión con accuracy\n",
        "test_loss, test_accuracy = model.evaluate(test_images, test_labels)\n",
        "\n",
        "print(\"Loss en el conjunto de datos de prueba:\", test_loss)\n",
        "print(\"Accuracy en el conjunto de datos de prueba:\", test_accuracy)"
      ]
    },
    {
      "cell_type": "markdown",
      "metadata": {
        "id": "ygMVnmSYO83U"
      },
      "source": [
        "\n",
        "\n",
        "## Predicciones de la red neuronal\n"
      ]
    },
    {
      "cell_type": "code",
      "execution_count": 14,
      "metadata": {
        "id": "b-mL-h4xQhCm"
      },
      "outputs": [
        {
          "name": "stdout",
          "output_type": "stream",
          "text": [
            "\u001b[1m313/313\u001b[0m \u001b[32m━━━━━━━━━━━━━━━━━━━━\u001b[0m\u001b[37m\u001b[0m \u001b[1m1s\u001b[0m 2ms/step\n",
            "Clasificaciones para la primera entrada: [3.7272671e-06 1.0290377e-06 4.1192097e-06 4.1144435e-06 4.4820213e-06 3.8688049e-02 9.0536123e-06 5.4646514e-02 8.4837724e-05 9.0655398e-01]\n",
            "Clase predicha para la primera entrada: 9\n"
          ]
        }
      ],
      "source": [
        "classifications = model.predict(test_images)\n",
        "print(\"Clasificaciones para la primera entrada:\", classifications[0])\n",
        "\n",
        "predicted_class = np.argmax(classifications[0])\n",
        "print(\"Clase predicha para la primera entrada:\", predicted_class)"
      ]
    },
    {
      "cell_type": "markdown",
      "metadata": {},
      "source": [
        "<h4>Entrenamiento de 512 neuronas en capa oculta</h4>"
      ]
    },
    {
      "cell_type": "code",
      "execution_count": 15,
      "metadata": {
        "id": "cdP8ZwuaUV93"
      },
      "outputs": [
        {
          "name": "stderr",
          "output_type": "stream",
          "text": [
            "C:\\Users\\EVELYN\\AppData\\Local\\Packages\\PythonSoftwareFoundation.Python.3.11_qbz5n2kfra8p0\\LocalCache\\local-packages\\Python311\\site-packages\\keras\\src\\layers\\reshaping\\flatten.py:37: UserWarning: Do not pass an `input_shape`/`input_dim` argument to a layer. When using Sequential models, prefer using an `Input(shape)` object as the first layer in the model instead.\n",
            "  super().__init__(**kwargs)\n"
          ]
        },
        {
          "name": "stdout",
          "output_type": "stream",
          "text": [
            "Epoch 1/10\n",
            "\u001b[1m938/938\u001b[0m \u001b[32m━━━━━━━━━━━━━━━━━━━━\u001b[0m\u001b[37m\u001b[0m \u001b[1m5s\u001b[0m 4ms/step - accuracy: 0.7586 - loss: 0.7022 - val_accuracy: 0.8357 - val_loss: 0.4503\n",
            "Epoch 2/10\n",
            "\u001b[1m938/938\u001b[0m \u001b[32m━━━━━━━━━━━━━━━━━━━━\u001b[0m\u001b[37m\u001b[0m \u001b[1m4s\u001b[0m 4ms/step - accuracy: 0.8478 - loss: 0.4172 - val_accuracy: 0.8508 - val_loss: 0.4061\n",
            "Epoch 3/10\n",
            "\u001b[1m938/938\u001b[0m \u001b[32m━━━━━━━━━━━━━━━━━━━━\u001b[0m\u001b[37m\u001b[0m \u001b[1m4s\u001b[0m 4ms/step - accuracy: 0.8671 - loss: 0.3682 - val_accuracy: 0.8592 - val_loss: 0.3926\n",
            "Epoch 4/10\n",
            "\u001b[1m938/938\u001b[0m \u001b[32m━━━━━━━━━━━━━━━━━━━━\u001b[0m\u001b[37m\u001b[0m \u001b[1m4s\u001b[0m 4ms/step - accuracy: 0.8767 - loss: 0.3385 - val_accuracy: 0.8668 - val_loss: 0.3654\n",
            "Epoch 5/10\n",
            "\u001b[1m938/938\u001b[0m \u001b[32m━━━━━━━━━━━━━━━━━━━━\u001b[0m\u001b[37m\u001b[0m \u001b[1m4s\u001b[0m 4ms/step - accuracy: 0.8839 - loss: 0.3170 - val_accuracy: 0.8727 - val_loss: 0.3534\n",
            "Epoch 6/10\n",
            "\u001b[1m938/938\u001b[0m \u001b[32m━━━━━━━━━━━━━━━━━━━━\u001b[0m\u001b[37m\u001b[0m \u001b[1m4s\u001b[0m 4ms/step - accuracy: 0.8909 - loss: 0.2992 - val_accuracy: 0.8694 - val_loss: 0.3532\n",
            "Epoch 7/10\n",
            "\u001b[1m938/938\u001b[0m \u001b[32m━━━━━━━━━━━━━━━━━━━━\u001b[0m\u001b[37m\u001b[0m \u001b[1m4s\u001b[0m 4ms/step - accuracy: 0.8950 - loss: 0.2853 - val_accuracy: 0.8751 - val_loss: 0.3434\n",
            "Epoch 8/10\n",
            "\u001b[1m938/938\u001b[0m \u001b[32m━━━━━━━━━━━━━━━━━━━━\u001b[0m\u001b[37m\u001b[0m \u001b[1m4s\u001b[0m 4ms/step - accuracy: 0.8997 - loss: 0.2743 - val_accuracy: 0.8776 - val_loss: 0.3353\n",
            "Epoch 9/10\n",
            "\u001b[1m938/938\u001b[0m \u001b[32m━━━━━━━━━━━━━━━━━━━━\u001b[0m\u001b[37m\u001b[0m \u001b[1m4s\u001b[0m 4ms/step - accuracy: 0.9046 - loss: 0.2562 - val_accuracy: 0.8815 - val_loss: 0.3247\n",
            "Epoch 10/10\n",
            "\u001b[1m938/938\u001b[0m \u001b[32m━━━━━━━━━━━━━━━━━━━━\u001b[0m\u001b[37m\u001b[0m \u001b[1m4s\u001b[0m 4ms/step - accuracy: 0.9088 - loss: 0.2431 - val_accuracy: 0.8835 - val_loss: 0.3173\n"
          ]
        }
      ],
      "source": [
        "(train_images, train_labels), (test_images, test_labels) = fashion_mnist.load_data()\n",
        "\n",
        "train_images = train_images / 255.0\n",
        "test_images = test_images / 255.0\n",
        "\n",
        "# Cambio de neuronas a 512:\n",
        "model_512 = models.Sequential([\n",
        "    layers.Flatten(input_shape=(28, 28)),  \n",
        "    layers.Dense(512, activation='sigmoid'),  \n",
        "    layers.Dense(10, activation='softmax')  \n",
        "])\n",
        "\n",
        "model_512.compile(optimizer='adam',\n",
        "                  loss='sparse_categorical_crossentropy',\n",
        "                  metrics=['accuracy'])\n",
        "\n",
        "history_512 = model_512.fit(train_images, train_labels, epochs=10, batch_size=64, validation_data=(test_images, test_labels))\n"
      ]
    },
    {
      "cell_type": "markdown",
      "metadata": {},
      "source": [
        "<h4>Entrenamiento de 1024 neuronas en capa oculta</h4>"
      ]
    },
    {
      "cell_type": "code",
      "execution_count": 16,
      "metadata": {
        "id": "YXBlbbfuUaPa"
      },
      "outputs": [
        {
          "name": "stdout",
          "output_type": "stream",
          "text": [
            "Epoch 1/10\n",
            "\u001b[1m938/938\u001b[0m \u001b[32m━━━━━━━━━━━━━━━━━━━━\u001b[0m\u001b[37m\u001b[0m \u001b[1m8s\u001b[0m 7ms/step - accuracy: 0.7715 - loss: 0.6543 - val_accuracy: 0.8343 - val_loss: 0.4597\n",
            "Epoch 2/10\n",
            "\u001b[1m938/938\u001b[0m \u001b[32m━━━━━━━━━━━━━━━━━━━━\u001b[0m\u001b[37m\u001b[0m \u001b[1m7s\u001b[0m 8ms/step - accuracy: 0.8487 - loss: 0.4163 - val_accuracy: 0.8529 - val_loss: 0.4083\n",
            "Epoch 3/10\n",
            "\u001b[1m938/938\u001b[0m \u001b[32m━━━━━━━━━━━━━━━━━━━━\u001b[0m\u001b[37m\u001b[0m \u001b[1m7s\u001b[0m 7ms/step - accuracy: 0.8688 - loss: 0.3630 - val_accuracy: 0.8625 - val_loss: 0.3804\n",
            "Epoch 4/10\n",
            "\u001b[1m938/938\u001b[0m \u001b[32m━━━━━━━━━━━━━━━━━━━━\u001b[0m\u001b[37m\u001b[0m \u001b[1m7s\u001b[0m 7ms/step - accuracy: 0.8756 - loss: 0.3406 - val_accuracy: 0.8660 - val_loss: 0.3741\n",
            "Epoch 5/10\n",
            "\u001b[1m938/938\u001b[0m \u001b[32m━━━━━━━━━━━━━━━━━━━━\u001b[0m\u001b[37m\u001b[0m \u001b[1m7s\u001b[0m 7ms/step - accuracy: 0.8852 - loss: 0.3115 - val_accuracy: 0.8743 - val_loss: 0.3519\n",
            "Epoch 6/10\n",
            "\u001b[1m938/938\u001b[0m \u001b[32m━━━━━━━━━━━━━━━━━━━━\u001b[0m\u001b[37m\u001b[0m \u001b[1m6s\u001b[0m 7ms/step - accuracy: 0.8902 - loss: 0.2960 - val_accuracy: 0.8790 - val_loss: 0.3415\n",
            "Epoch 7/10\n",
            "\u001b[1m938/938\u001b[0m \u001b[32m━━━━━━━━━━━━━━━━━━━━\u001b[0m\u001b[37m\u001b[0m \u001b[1m6s\u001b[0m 7ms/step - accuracy: 0.8995 - loss: 0.2744 - val_accuracy: 0.8798 - val_loss: 0.3351\n",
            "Epoch 8/10\n",
            "\u001b[1m938/938\u001b[0m \u001b[32m━━━━━━━━━━━━━━━━━━━━\u001b[0m\u001b[37m\u001b[0m \u001b[1m6s\u001b[0m 7ms/step - accuracy: 0.9034 - loss: 0.2586 - val_accuracy: 0.8839 - val_loss: 0.3264\n",
            "Epoch 9/10\n",
            "\u001b[1m938/938\u001b[0m \u001b[32m━━━━━━━━━━━━━━━━━━━━\u001b[0m\u001b[37m\u001b[0m \u001b[1m7s\u001b[0m 7ms/step - accuracy: 0.9049 - loss: 0.2529 - val_accuracy: 0.8848 - val_loss: 0.3276\n",
            "Epoch 10/10\n",
            "\u001b[1m938/938\u001b[0m \u001b[32m━━━━━━━━━━━━━━━━━━━━\u001b[0m\u001b[37m\u001b[0m \u001b[1m6s\u001b[0m 7ms/step - accuracy: 0.9121 - loss: 0.2329 - val_accuracy: 0.8758 - val_loss: 0.3503\n"
          ]
        }
      ],
      "source": [
        "# Cambio de neuronas a 1024:\n",
        "model_1024 = models.Sequential([\n",
        "    layers.Flatten(input_shape=(28, 28)),  \n",
        "    layers.Dense(1024, activation='sigmoid'), \n",
        "    layers.Dense(10, activation='softmax')  \n",
        "])\n",
        "\n",
        "model_1024.compile(optimizer='adam',\n",
        "                    loss='sparse_categorical_crossentropy',\n",
        "                    metrics=['accuracy'])\n",
        "\n",
        "\n",
        "history_1024 = model_1024.fit(train_images, train_labels, epochs=10, batch_size=64, validation_data=(test_images, test_labels))"
      ]
    },
    {
      "cell_type": "code",
      "execution_count": 17,
      "metadata": {
        "id": "RdJHl3V-G4iS"
      },
      "outputs": [
        {
          "name": "stdout",
          "output_type": "stream",
          "text": [
            "Epoch 1/10\n",
            "\u001b[1m938/938\u001b[0m \u001b[32m━━━━━━━━━━━━━━━━━━━━\u001b[0m\u001b[37m\u001b[0m \u001b[1m5s\u001b[0m 4ms/step - accuracy: 0.7617 - loss: 0.7010\n",
            "Epoch 2/10\n",
            "\u001b[1m938/938\u001b[0m \u001b[32m━━━━━━━━━━━━━━━━━━━━\u001b[0m\u001b[37m\u001b[0m \u001b[1m3s\u001b[0m 4ms/step - accuracy: 0.8529 - loss: 0.4095\n",
            "Epoch 3/10\n",
            "\u001b[1m938/938\u001b[0m \u001b[32m━━━━━━━━━━━━━━━━━━━━\u001b[0m\u001b[37m\u001b[0m \u001b[1m3s\u001b[0m 4ms/step - accuracy: 0.8684 - loss: 0.3615\n",
            "Epoch 4/10\n",
            "\u001b[1m938/938\u001b[0m \u001b[32m━━━━━━━━━━━━━━━━━━━━\u001b[0m\u001b[37m\u001b[0m \u001b[1m3s\u001b[0m 4ms/step - accuracy: 0.8787 - loss: 0.3382\n",
            "Epoch 5/10\n",
            "\u001b[1m938/938\u001b[0m \u001b[32m━━━━━━━━━━━━━━━━━━━━\u001b[0m\u001b[37m\u001b[0m \u001b[1m4s\u001b[0m 4ms/step - accuracy: 0.8840 - loss: 0.3166\n",
            "Epoch 6/10\n",
            "\u001b[1m938/938\u001b[0m \u001b[32m━━━━━━━━━━━━━━━━━━━━\u001b[0m\u001b[37m\u001b[0m \u001b[1m3s\u001b[0m 4ms/step - accuracy: 0.8916 - loss: 0.2978\n",
            "Epoch 7/10\n",
            "\u001b[1m938/938\u001b[0m \u001b[32m━━━━━━━━━━━━━━━━━━━━\u001b[0m\u001b[37m\u001b[0m \u001b[1m4s\u001b[0m 4ms/step - accuracy: 0.8976 - loss: 0.2804\n",
            "Epoch 8/10\n",
            "\u001b[1m938/938\u001b[0m \u001b[32m━━━━━━━━━━━━━━━━━━━━\u001b[0m\u001b[37m\u001b[0m \u001b[1m3s\u001b[0m 4ms/step - accuracy: 0.9011 - loss: 0.2654\n",
            "Epoch 9/10\n",
            "\u001b[1m938/938\u001b[0m \u001b[32m━━━━━━━━━━━━━━━━━━━━\u001b[0m\u001b[37m\u001b[0m \u001b[1m3s\u001b[0m 3ms/step - accuracy: 0.9077 - loss: 0.2530\n",
            "Epoch 10/10\n",
            "\u001b[1m938/938\u001b[0m \u001b[32m━━━━━━━━━━━━━━━━━━━━\u001b[0m\u001b[37m\u001b[0m \u001b[1m3s\u001b[0m 4ms/step - accuracy: 0.9078 - loss: 0.2450\n",
            "\u001b[1m313/313\u001b[0m \u001b[32m━━━━━━━━━━━━━━━━━━━━\u001b[0m\u001b[37m\u001b[0m \u001b[1m1s\u001b[0m 2ms/step\n",
            "Para el modelo con 512 neuronas en la capa oculta:\n",
            "Clase predicha para la primera prenda de vestir: 9\n",
            "Epoch 1/10\n",
            "\u001b[1m938/938\u001b[0m \u001b[32m━━━━━━━━━━━━━━━━━━━━\u001b[0m\u001b[37m\u001b[0m \u001b[1m8s\u001b[0m 7ms/step - accuracy: 0.7697 - loss: 0.6614\n",
            "Epoch 2/10\n",
            "\u001b[1m938/938\u001b[0m \u001b[32m━━━━━━━━━━━━━━━━━━━━\u001b[0m\u001b[37m\u001b[0m \u001b[1m6s\u001b[0m 7ms/step - accuracy: 0.8503 - loss: 0.4129\n",
            "Epoch 3/10\n",
            "\u001b[1m938/938\u001b[0m \u001b[32m━━━━━━━━━━━━━━━━━━━━\u001b[0m\u001b[37m\u001b[0m \u001b[1m6s\u001b[0m 7ms/step - accuracy: 0.8652 - loss: 0.3697\n",
            "Epoch 4/10\n",
            "\u001b[1m938/938\u001b[0m \u001b[32m━━━━━━━━━━━━━━━━━━━━\u001b[0m\u001b[37m\u001b[0m \u001b[1m6s\u001b[0m 7ms/step - accuracy: 0.8735 - loss: 0.3395\n",
            "Epoch 5/10\n",
            "\u001b[1m938/938\u001b[0m \u001b[32m━━━━━━━━━━━━━━━━━━━━\u001b[0m\u001b[37m\u001b[0m \u001b[1m6s\u001b[0m 7ms/step - accuracy: 0.8838 - loss: 0.3125\n",
            "Epoch 6/10\n",
            "\u001b[1m938/938\u001b[0m \u001b[32m━━━━━━━━━━━━━━━━━━━━\u001b[0m\u001b[37m\u001b[0m \u001b[1m6s\u001b[0m 7ms/step - accuracy: 0.8905 - loss: 0.2954\n",
            "Epoch 7/10\n",
            "\u001b[1m938/938\u001b[0m \u001b[32m━━━━━━━━━━━━━━━━━━━━\u001b[0m\u001b[37m\u001b[0m \u001b[1m6s\u001b[0m 7ms/step - accuracy: 0.9002 - loss: 0.2745\n",
            "Epoch 8/10\n",
            "\u001b[1m938/938\u001b[0m \u001b[32m━━━━━━━━━━━━━━━━━━━━\u001b[0m\u001b[37m\u001b[0m \u001b[1m6s\u001b[0m 7ms/step - accuracy: 0.9024 - loss: 0.2631\n",
            "Epoch 9/10\n",
            "\u001b[1m938/938\u001b[0m \u001b[32m━━━━━━━━━━━━━━━━━━━━\u001b[0m\u001b[37m\u001b[0m \u001b[1m7s\u001b[0m 7ms/step - accuracy: 0.9074 - loss: 0.2456\n",
            "Epoch 10/10\n",
            "\u001b[1m938/938\u001b[0m \u001b[32m━━━━━━━━━━━━━━━━━━━━\u001b[0m\u001b[37m\u001b[0m \u001b[1m6s\u001b[0m 7ms/step - accuracy: 0.9138 - loss: 0.2317\n",
            "\u001b[1m313/313\u001b[0m \u001b[32m━━━━━━━━━━━━━━━━━━━━\u001b[0m\u001b[37m\u001b[0m \u001b[1m1s\u001b[0m 2ms/step\n",
            "\n",
            "Para el modelo con 1024 neuronas en la capa oculta:\n",
            "Clase predicha para la primera prenda de vestir: 9\n"
          ]
        }
      ],
      "source": [
        "(train_images, train_labels), (test_images, test_labels) = fashion_mnist.load_data()\n",
        "\n",
        "train_images = train_images / 255.0\n",
        "test_images = test_images / 255.0\n",
        "\n",
        "#Se redefine el modelo 512 para luego ejecutar el predictor de classification\n",
        "model_512 = models.Sequential([\n",
        "    layers.Flatten(input_shape=(28, 28)),  \n",
        "    layers.Dense(512, activation='sigmoid'),\n",
        "    layers.Dense(10, activation='softmax')  \n",
        "])\n",
        "\n",
        "model_512.compile(optimizer='adam',\n",
        "                  loss='sparse_categorical_crossentropy',\n",
        "                  metrics=['accuracy'])\n",
        "\n",
        "model_512.fit(train_images, train_labels, epochs=10, batch_size=64)\n",
        "classifications_512 = model_512.predict(test_images)\n",
        "\n",
        "# Definición del clasificador del ejercicio anterior: \n",
        "def classifier(classifications):\n",
        "    predicted_class = np.argmax(classifications[0])\n",
        "    print(\"Clase predicha para la primera prenda de vestir:\", predicted_class)\n",
        "print(\"Para el modelo con 512 neuronas en la capa oculta:\")\n",
        "classifier(classifications_512)\n",
        "\n",
        "#Se redefine el modelo 1024 para luego ejecutar el predictor de classification\n",
        "model_1024 = models.Sequential([\n",
        "    layers.Flatten(input_shape=(28, 28)),  \n",
        "    layers.Dense(1024, activation='sigmoid'),\n",
        "    layers.Dense(10, activation='softmax')\n",
        "])\n",
        "\n",
        "model_1024.compile(optimizer='adam',\n",
        "                    loss='sparse_categorical_crossentropy',\n",
        "                    metrics=['accuracy'])\n",
        "\n",
        "model_1024.fit(train_images, train_labels, epochs=10, batch_size=64)\n",
        "classifications_1024 = model_1024.predict(test_images)\n",
        "\n",
        "print(\"\\nPara el modelo con 1024 neuronas en la capa oculta:\")\n",
        "classifier(classifications_1024)"
      ]
    },
    {
      "cell_type": "code",
      "execution_count": 18,
      "metadata": {},
      "outputs": [
        {
          "name": "stdout",
          "output_type": "stream",
          "text": [
            "Para el modelo con 512 neuronas en la capa oculta:\n"
          ]
        },
        {
          "data": {
            "image/png": "[encoded data removed]",
            "text/plain": [
              "<Figure size 640x480 with 1 Axes>"
            ]
          },
          "metadata": {},
          "output_type": "display_data"
        },
        {
          "name": "stdout",
          "output_type": "stream",
          "text": [
            "\n",
            "Para el modelo con 1024 neuronas en la capa oculta:\n"
          ]
        },
        {
          "data": {
            "image/png": "[encoded data removed]",
            "text/plain": [
              "<Figure size 640x480 with 1 Axes>"
            ]
          },
          "metadata": {},
          "output_type": "display_data"
        }
      ],
      "source": [
        "#Realizo una muestra de imagen para comprobar si de verdad la clase es la misma para ambas:\n",
        "import matplotlib.pyplot as plt\n",
        "\n",
        "def visualize_predicted_image(classifications, test_images, test_labels):\n",
        "    predicted_class = np.argmax(classifications[0])\n",
        "    index = np.where(test_labels == predicted_class)[0][0]\n",
        "    plt.figure()\n",
        "    plt.imshow(test_images[index], cmap='gray')\n",
        "    plt.title(\"Imagen correspondiente al primer objeto en classifications\")\n",
        "    plt.axis('off')\n",
        "    plt.show()\n",
        "\n",
        "print(\"Para el modelo con 512 neuronas en la capa oculta:\")\n",
        "visualize_predicted_image(classifications_512, test_images, test_labels)\n",
        "\n",
        "print(\"\\nPara el modelo con 1024 neuronas en la capa oculta:\")\n",
        "visualize_predicted_image(classifications_1024, test_images, test_labels)\n"
      ]
    },
    {
      "cell_type": "code",
      "execution_count": 20,
      "metadata": {
        "id": "FhbZkppYZOCS"
      },
      "outputs": [
        {
          "name": "stdout",
          "output_type": "stream",
          "text": [
            "Epoch 1/10\n",
            "\u001b[1m938/938\u001b[0m \u001b[32m━━━━━━━━━━━━━━━━━━━━\u001b[0m\u001b[37m\u001b[0m \u001b[1m5s\u001b[0m 3ms/step - accuracy: 0.8593 - loss: 0.3901 - val_accuracy: 0.8800 - val_loss: 0.3094\n",
            "Epoch 2/10\n",
            "\u001b[1m938/938\u001b[0m \u001b[32m━━━━━━━━━━━━━━━━━━━━\u001b[0m\u001b[37m\u001b[0m \u001b[1m3s\u001b[0m 3ms/step - accuracy: 0.8982 - loss: 0.2677 - val_accuracy: 0.8961 - val_loss: 0.2788\n",
            "Epoch 3/10\n",
            "\u001b[1m938/938\u001b[0m \u001b[32m━━━━━━━━━━━━━━━━━━━━\u001b[0m\u001b[37m\u001b[0m \u001b[1m3s\u001b[0m 3ms/step - accuracy: 0.9080 - loss: 0.2403 - val_accuracy: 0.8902 - val_loss: 0.2779\n",
            "Epoch 4/10\n",
            "\u001b[1m938/938\u001b[0m \u001b[32m━━━━━━━━━━━━━━━━━━━━\u001b[0m\u001b[37m\u001b[0m \u001b[1m3s\u001b[0m 3ms/step - accuracy: 0.9137 - loss: 0.2245 - val_accuracy: 0.9009 - val_loss: 0.2626\n",
            "Epoch 5/10\n",
            "\u001b[1m938/938\u001b[0m \u001b[32m━━━━━━━━━━━━━━━━━━━━\u001b[0m\u001b[37m\u001b[0m \u001b[1m3s\u001b[0m 3ms/step - accuracy: 0.9188 - loss: 0.2117 - val_accuracy: 0.9058 - val_loss: 0.2425\n",
            "Epoch 6/10\n",
            "\u001b[1m938/938\u001b[0m \u001b[32m━━━━━━━━━━━━━━━━━━━━\u001b[0m\u001b[37m\u001b[0m \u001b[1m3s\u001b[0m 3ms/step - accuracy: 0.9197 - loss: 0.2074 - val_accuracy: 0.9072 - val_loss: 0.2491\n",
            "Epoch 7/10\n",
            "\u001b[1m938/938\u001b[0m \u001b[32m━━━━━━━━━━━━━━━━━━━━\u001b[0m\u001b[37m\u001b[0m \u001b[1m3s\u001b[0m 3ms/step - accuracy: 0.9223 - loss: 0.1970 - val_accuracy: 0.9071 - val_loss: 0.2383\n",
            "Epoch 8/10\n",
            "\u001b[1m938/938\u001b[0m \u001b[32m━━━━━━━━━━━━━━━━━━━━\u001b[0m\u001b[37m\u001b[0m \u001b[1m3s\u001b[0m 3ms/step - accuracy: 0.9255 - loss: 0.1898 - val_accuracy: 0.9068 - val_loss: 0.2379\n",
            "Epoch 9/10\n",
            "\u001b[1m938/938\u001b[0m \u001b[32m━━━━━━━━━━━━━━━━━━━━\u001b[0m\u001b[37m\u001b[0m \u001b[1m3s\u001b[0m 3ms/step - accuracy: 0.9294 - loss: 0.1821 - val_accuracy: 0.9097 - val_loss: 0.2328\n",
            "Epoch 10/10\n",
            "\u001b[1m938/938\u001b[0m \u001b[32m━━━━━━━━━━━━━━━━━━━━\u001b[0m\u001b[37m\u001b[0m \u001b[1m3s\u001b[0m 3ms/step - accuracy: 0.9292 - loss: 0.1811 - val_accuracy: 0.9127 - val_loss: 0.2284\n"
          ]
        }
      ],
      "source": [
        "from tensorflow.keras.utils import to_categorical\n",
        "\n",
        "(train_images, train_labels), (test_images, test_labels) = fashion_mnist.load_data()\n",
        "\n",
        "train_images = train_images / 255.0\n",
        "test_images = test_images / 255.0\n",
        "\n",
        "train_labels = np.where(train_labels > 4, 4, train_labels)\n",
        "test_labels = np.where(test_labels > 4, 4, test_labels)\n",
        "\n",
        "train_labels = to_categorical(train_labels, num_classes=5)\n",
        "test_labels = to_categorical(test_labels, num_classes=5)\n",
        "\n",
        "model = models.Sequential([\n",
        "    layers.Flatten(input_shape=(28, 28)),\n",
        "    layers.Dense(128, activation='relu'),\n",
        "    layers.Dense(5, activation='softmax')  \n",
        "])\n",
        "\n",
        "model.compile(optimizer='adam',\n",
        "              loss='categorical_crossentropy',  \n",
        "              metrics=['accuracy'])\n",
        "\n",
        "history = model.fit(train_images, train_labels, epochs=10, batch_size=64, validation_data=(test_images, test_labels))\n",
        "\n",
        "#Algunas observaciones sobre las modificaciones realizadas: \n",
        "#Colocación del categorical_crossentropy de one-hot y la redefinición de etiquetas para el rango [0- 4]\n",
        "#Ya que o sino no se podría realizar la clasificación porque las etiquetas estarán fuera del rango válido para el \n",
        "#número de clases definidas en la capa de salida. "
      ]
    },
    {
      "cell_type": "code",
      "execution_count": 21,
      "metadata": {},
      "outputs": [
        {
          "name": "stdout",
          "output_type": "stream",
          "text": [
            "Epoch 1/15\n",
            "\u001b[1m938/938\u001b[0m \u001b[32m━━━━━━━━━━━━━━━━━━━━\u001b[0m\u001b[37m\u001b[0m \u001b[1m4s\u001b[0m 3ms/step - accuracy: 0.7442 - loss: 0.8171 - val_accuracy: 0.8371 - val_loss: 0.4602\n",
            "Epoch 2/15\n",
            "\u001b[1m938/938\u001b[0m \u001b[32m━━━━━━━━━━━━━━━━━━━━\u001b[0m\u001b[37m\u001b[0m \u001b[1m3s\u001b[0m 3ms/step - accuracy: 0.8464 - loss: 0.4291 - val_accuracy: 0.8318 - val_loss: 0.4585\n",
            "Epoch 3/15\n",
            "\u001b[1m938/938\u001b[0m \u001b[32m━━━━━━━━━━━━━━━━━━━━\u001b[0m\u001b[37m\u001b[0m \u001b[1m3s\u001b[0m 3ms/step - accuracy: 0.8641 - loss: 0.3801 - val_accuracy: 0.8585 - val_loss: 0.3927\n",
            "Epoch 4/15\n",
            "\u001b[1m938/938\u001b[0m \u001b[32m━━━━━━━━━━━━━━━━━━━━\u001b[0m\u001b[37m\u001b[0m \u001b[1m3s\u001b[0m 3ms/step - accuracy: 0.8750 - loss: 0.3483 - val_accuracy: 0.8619 - val_loss: 0.3874\n",
            "Epoch 5/15\n",
            "\u001b[1m938/938\u001b[0m \u001b[32m━━━━━━━━━━━━━━━━━━━━\u001b[0m\u001b[37m\u001b[0m \u001b[1m3s\u001b[0m 3ms/step - accuracy: 0.8789 - loss: 0.3381 - val_accuracy: 0.8647 - val_loss: 0.3740\n",
            "Epoch 6/15\n",
            "\u001b[1m938/938\u001b[0m \u001b[32m━━━━━━━━━━━━━━━━━━━━\u001b[0m\u001b[37m\u001b[0m \u001b[1m3s\u001b[0m 3ms/step - accuracy: 0.8845 - loss: 0.3168 - val_accuracy: 0.8562 - val_loss: 0.3968\n",
            "Epoch 7/15\n",
            "\u001b[1m938/938\u001b[0m \u001b[32m━━━━━━━━━━━━━━━━━━━━\u001b[0m\u001b[37m\u001b[0m \u001b[1m3s\u001b[0m 3ms/step - accuracy: 0.8885 - loss: 0.3041 - val_accuracy: 0.8699 - val_loss: 0.3631\n",
            "Epoch 8/15\n",
            "\u001b[1m938/938\u001b[0m \u001b[32m━━━━━━━━━━━━━━━━━━━━\u001b[0m\u001b[37m\u001b[0m \u001b[1m3s\u001b[0m 3ms/step - accuracy: 0.8948 - loss: 0.2910 - val_accuracy: 0.8729 - val_loss: 0.3499\n",
            "Epoch 9/15\n",
            "\u001b[1m938/938\u001b[0m \u001b[32m━━━━━━━━━━━━━━━━━━━━\u001b[0m\u001b[37m\u001b[0m \u001b[1m3s\u001b[0m 3ms/step - accuracy: 0.8969 - loss: 0.2794 - val_accuracy: 0.8770 - val_loss: 0.3399\n",
            "Epoch 10/15\n",
            "\u001b[1m938/938\u001b[0m \u001b[32m━━━━━━━━━━━━━━━━━━━━\u001b[0m\u001b[37m\u001b[0m \u001b[1m3s\u001b[0m 3ms/step - accuracy: 0.9001 - loss: 0.2732 - val_accuracy: 0.8799 - val_loss: 0.3379\n",
            "Epoch 11/15\n",
            "\u001b[1m938/938\u001b[0m \u001b[32m━━━━━━━━━━━━━━━━━━━━\u001b[0m\u001b[37m\u001b[0m \u001b[1m3s\u001b[0m 3ms/step - accuracy: 0.9034 - loss: 0.2666 - val_accuracy: 0.8709 - val_loss: 0.3589\n",
            "Epoch 12/15\n",
            "\u001b[1m938/938\u001b[0m \u001b[32m━━━━━━━━━━━━━━━━━━━━\u001b[0m\u001b[37m\u001b[0m \u001b[1m3s\u001b[0m 3ms/step - accuracy: 0.9049 - loss: 0.2558 - val_accuracy: 0.8726 - val_loss: 0.3507\n",
            "Epoch 13/15\n",
            "\u001b[1m938/938\u001b[0m \u001b[32m━━━━━━━━━━━━━━━━━━━━\u001b[0m\u001b[37m\u001b[0m \u001b[1m3s\u001b[0m 3ms/step - accuracy: 0.9101 - loss: 0.2441 - val_accuracy: 0.8807 - val_loss: 0.3289\n",
            "Epoch 14/15\n",
            "\u001b[1m938/938\u001b[0m \u001b[32m━━━━━━━━━━━━━━━━━━━━\u001b[0m\u001b[37m\u001b[0m \u001b[1m3s\u001b[0m 3ms/step - accuracy: 0.9118 - loss: 0.2417 - val_accuracy: 0.8793 - val_loss: 0.3287\n",
            "Epoch 15/15\n",
            "\u001b[1m938/938\u001b[0m \u001b[32m━━━━━━━━━━━━━━━━━━━━\u001b[0m\u001b[37m\u001b[0m \u001b[1m3s\u001b[0m 3ms/step - accuracy: 0.9115 - loss: 0.2396 - val_accuracy: 0.8834 - val_loss: 0.3233\n",
            "Epoch 1: Loss=0.5934, Accuracy=0.8029, Val Loss=0.4602, Val Accuracy=0.8371\n",
            "Epoch 2: Loss=0.4153, Accuracy=0.8513, Val Loss=0.4585, Val Accuracy=0.8318\n",
            "Epoch 3: Loss=0.3756, Accuracy=0.8649, Val Loss=0.3927, Val Accuracy=0.8585\n",
            "Epoch 4: Loss=0.3504, Accuracy=0.8737, Val Loss=0.3874, Val Accuracy=0.8619\n",
            "Epoch 5: Loss=0.3324, Accuracy=0.8797, Val Loss=0.3740, Val Accuracy=0.8647\n",
            "Epoch 6: Loss=0.3150, Accuracy=0.8852, Val Loss=0.3968, Val Accuracy=0.8562\n",
            "Epoch 7: Loss=0.3038, Accuracy=0.8893, Val Loss=0.3631, Val Accuracy=0.8699\n",
            "Epoch 8: Loss=0.2903, Accuracy=0.8946, Val Loss=0.3499, Val Accuracy=0.8729\n",
            "Epoch 9: Loss=0.2815, Accuracy=0.8970, Val Loss=0.3399, Val Accuracy=0.8770\n",
            "Epoch 10: Loss=0.2728, Accuracy=0.8999, Val Loss=0.3379, Val Accuracy=0.8799\n",
            "Epoch 11: Loss=0.2636, Accuracy=0.9040, Val Loss=0.3589, Val Accuracy=0.8709\n",
            "Epoch 12: Loss=0.2578, Accuracy=0.9051, Val Loss=0.3507, Val Accuracy=0.8726\n",
            "Epoch 13: Loss=0.2478, Accuracy=0.9096, Val Loss=0.3289, Val Accuracy=0.8807\n",
            "Epoch 14: Loss=0.2435, Accuracy=0.9101, Val Loss=0.3287, Val Accuracy=0.8793\n",
            "Epoch 15: Loss=0.2362, Accuracy=0.9129, Val Loss=0.3233, Val Accuracy=0.8834\n"
          ]
        }
      ],
      "source": [
        "(train_images, train_labels), (test_images, test_labels) = fashion_mnist.load_data()\n",
        "train_images = train_images / 255.0\n",
        "test_images = test_images / 255.0\n",
        "\n",
        "# Requisitos del modelo:\n",
        "# Hidden layer de 128 unidades, activación sigmoid y optimizador Adam\n",
        "# Última capa con activación softmax\n",
        "model = models.Sequential([\n",
        "    layers.Flatten(input_shape=(28, 28)), \n",
        "    layers.Dense(128, activation='sigmoid'),  \n",
        "    layers.Dense(10, activation='softmax')  \n",
        "])\n",
        "model.compile(optimizer='adam',\n",
        "              loss='sparse_categorical_crossentropy',\n",
        "              metrics=['accuracy'])\n",
        "\n",
        "#Se piden 10 epochs y un batch size de 64 \n",
        "history = model.fit(train_images, train_labels, epochs=15, batch_size=64, validation_data=(test_images, test_labels))\n",
        "\n",
        "# Se muestran también los resultados de loss y accuracy por cada epoch\n",
        "losses = history.history['loss']\n",
        "accuracies = history.history['accuracy']\n",
        "val_losses = history.history['val_loss']\n",
        "val_accuracies = history.history['val_accuracy']\n",
        "\n",
        "for epoch in range(len(losses)):\n",
        "    print(\"Epoch {}: Loss={:.4f}, Accuracy={:.4f}, Val Loss={:.4f}, Val Accuracy={:.4f}\"\n",
        "          .format(epoch+1, losses[epoch], accuracies[epoch], val_losses[epoch], val_accuracies[epoch]))\n"
      ]
    },
    {
      "cell_type": "code",
      "execution_count": 22,
      "metadata": {
        "id": "I9jQ26Gda5cv"
      },
      "outputs": [
        {
          "name": "stdout",
          "output_type": "stream",
          "text": [
            "Epoch 1/30\n",
            "\u001b[1m938/938\u001b[0m \u001b[32m━━━━━━━━━━━━━━━━━━━━\u001b[0m\u001b[37m\u001b[0m \u001b[1m4s\u001b[0m 3ms/step - accuracy: 0.7488 - loss: 0.8258 - val_accuracy: 0.8328 - val_loss: 0.4645\n",
            "Epoch 2/30\n",
            "\u001b[1m938/938\u001b[0m \u001b[32m━━━━━━━━━━━━━━━━━━━━\u001b[0m\u001b[37m\u001b[0m \u001b[1m3s\u001b[0m 3ms/step - accuracy: 0.8521 - loss: 0.4190 - val_accuracy: 0.8471 - val_loss: 0.4187\n",
            "Epoch 3/30\n",
            "\u001b[1m938/938\u001b[0m \u001b[32m━━━━━━━━━━━━━━━━━━━━\u001b[0m\u001b[37m\u001b[0m \u001b[1m3s\u001b[0m 3ms/step - accuracy: 0.8639 - loss: 0.3768 - val_accuracy: 0.8553 - val_loss: 0.4000\n",
            "Epoch 4/30\n",
            "\u001b[1m938/938\u001b[0m \u001b[32m━━━━━━━━━━━━━━━━━━━━\u001b[0m\u001b[37m\u001b[0m \u001b[1m3s\u001b[0m 3ms/step - accuracy: 0.8721 - loss: 0.3519 - val_accuracy: 0.8660 - val_loss: 0.3770\n",
            "Epoch 5/30\n",
            "\u001b[1m938/938\u001b[0m \u001b[32m━━━━━━━━━━━━━━━━━━━━\u001b[0m\u001b[37m\u001b[0m \u001b[1m3s\u001b[0m 3ms/step - accuracy: 0.8796 - loss: 0.3332 - val_accuracy: 0.8694 - val_loss: 0.3643\n",
            "Epoch 6/30\n",
            "\u001b[1m938/938\u001b[0m \u001b[32m━━━━━━━━━━━━━━━━━━━━\u001b[0m\u001b[37m\u001b[0m \u001b[1m3s\u001b[0m 3ms/step - accuracy: 0.8863 - loss: 0.3154 - val_accuracy: 0.8713 - val_loss: 0.3595\n",
            "Epoch 7/30\n",
            "\u001b[1m938/938\u001b[0m \u001b[32m━━━━━━━━━━━━━━━━━━━━\u001b[0m\u001b[37m\u001b[0m \u001b[1m3s\u001b[0m 3ms/step - accuracy: 0.8895 - loss: 0.3036 - val_accuracy: 0.8708 - val_loss: 0.3572\n",
            "Epoch 8/30\n",
            "\u001b[1m938/938\u001b[0m \u001b[32m━━━━━━━━━━━━━━━━━━━━\u001b[0m\u001b[37m\u001b[0m \u001b[1m3s\u001b[0m 3ms/step - accuracy: 0.8930 - loss: 0.2936 - val_accuracy: 0.8776 - val_loss: 0.3411\n",
            "Epoch 9/30\n",
            "\u001b[1m938/938\u001b[0m \u001b[32m━━━━━━━━━━━━━━━━━━━━\u001b[0m\u001b[37m\u001b[0m \u001b[1m3s\u001b[0m 3ms/step - accuracy: 0.8982 - loss: 0.2825 - val_accuracy: 0.8776 - val_loss: 0.3410\n",
            "Epoch 10/30\n",
            "\u001b[1m938/938\u001b[0m \u001b[32m━━━━━━━━━━━━━━━━━━━━\u001b[0m\u001b[37m\u001b[0m \u001b[1m3s\u001b[0m 3ms/step - accuracy: 0.8979 - loss: 0.2764 - val_accuracy: 0.8748 - val_loss: 0.3424\n",
            "Epoch 11/30\n",
            "\u001b[1m938/938\u001b[0m \u001b[32m━━━━━━━━━━━━━━━━━━━━\u001b[0m\u001b[37m\u001b[0m \u001b[1m3s\u001b[0m 3ms/step - accuracy: 0.9010 - loss: 0.2665 - val_accuracy: 0.8813 - val_loss: 0.3306\n",
            "Epoch 12/30\n",
            "\u001b[1m938/938\u001b[0m \u001b[32m━━━━━━━━━━━━━━━━━━━━\u001b[0m\u001b[37m\u001b[0m \u001b[1m3s\u001b[0m 3ms/step - accuracy: 0.9049 - loss: 0.2586 - val_accuracy: 0.8816 - val_loss: 0.3331\n",
            "Epoch 13/30\n",
            "\u001b[1m938/938\u001b[0m \u001b[32m━━━━━━━━━━━━━━━━━━━━\u001b[0m\u001b[37m\u001b[0m \u001b[1m3s\u001b[0m 3ms/step - accuracy: 0.9083 - loss: 0.2483 - val_accuracy: 0.8809 - val_loss: 0.3318\n",
            "Epoch 14/30\n",
            "\u001b[1m938/938\u001b[0m \u001b[32m━━━━━━━━━━━━━━━━━━━━\u001b[0m\u001b[37m\u001b[0m \u001b[1m3s\u001b[0m 3ms/step - accuracy: 0.9105 - loss: 0.2419 - val_accuracy: 0.8823 - val_loss: 0.3242\n",
            "Epoch 15/30\n",
            "\u001b[1m938/938\u001b[0m \u001b[32m━━━━━━━━━━━━━━━━━━━━\u001b[0m\u001b[37m\u001b[0m \u001b[1m3s\u001b[0m 3ms/step - accuracy: 0.9134 - loss: 0.2346 - val_accuracy: 0.8861 - val_loss: 0.3199\n",
            "Epoch 16/30\n",
            "\u001b[1m938/938\u001b[0m \u001b[32m━━━━━━━━━━━━━━━━━━━━\u001b[0m\u001b[37m\u001b[0m \u001b[1m3s\u001b[0m 3ms/step - accuracy: 0.9188 - loss: 0.2253 - val_accuracy: 0.8846 - val_loss: 0.3255\n",
            "Epoch 17/30\n",
            "\u001b[1m938/938\u001b[0m \u001b[32m━━━━━━━━━━━━━━━━━━━━\u001b[0m\u001b[37m\u001b[0m \u001b[1m3s\u001b[0m 3ms/step - accuracy: 0.9183 - loss: 0.2228 - val_accuracy: 0.8848 - val_loss: 0.3197\n",
            "Epoch 18/30\n",
            "\u001b[1m938/938\u001b[0m \u001b[32m━━━━━━━━━━━━━━━━━━━━\u001b[0m\u001b[37m\u001b[0m \u001b[1m3s\u001b[0m 3ms/step - accuracy: 0.9203 - loss: 0.2190 - val_accuracy: 0.8854 - val_loss: 0.3215\n",
            "Epoch 19/30\n",
            "\u001b[1m938/938\u001b[0m \u001b[32m━━━━━━━━━━━━━━━━━━━━\u001b[0m\u001b[37m\u001b[0m \u001b[1m3s\u001b[0m 3ms/step - accuracy: 0.9219 - loss: 0.2110 - val_accuracy: 0.8886 - val_loss: 0.3138\n",
            "Epoch 20/30\n",
            "\u001b[1m938/938\u001b[0m \u001b[32m━━━━━━━━━━━━━━━━━━━━\u001b[0m\u001b[37m\u001b[0m \u001b[1m3s\u001b[0m 3ms/step - accuracy: 0.9256 - loss: 0.2092 - val_accuracy: 0.8903 - val_loss: 0.3127\n",
            "Epoch 21/30\n",
            "\u001b[1m938/938\u001b[0m \u001b[32m━━━━━━━━━━━━━━━━━━━━\u001b[0m\u001b[37m\u001b[0m \u001b[1m3s\u001b[0m 3ms/step - accuracy: 0.9272 - loss: 0.2011 - val_accuracy: 0.8840 - val_loss: 0.3209\n",
            "Epoch 22/30\n",
            "\u001b[1m938/938\u001b[0m \u001b[32m━━━━━━━━━━━━━━━━━━━━\u001b[0m\u001b[37m\u001b[0m \u001b[1m3s\u001b[0m 3ms/step - accuracy: 0.9288 - loss: 0.1939 - val_accuracy: 0.8893 - val_loss: 0.3114\n",
            "Epoch 23/30\n",
            "\u001b[1m938/938\u001b[0m \u001b[32m━━━━━━━━━━━━━━━━━━━━\u001b[0m\u001b[37m\u001b[0m \u001b[1m3s\u001b[0m 3ms/step - accuracy: 0.9317 - loss: 0.1924 - val_accuracy: 0.8866 - val_loss: 0.3228\n",
            "Epoch 24/30\n",
            "\u001b[1m938/938\u001b[0m \u001b[32m━━━━━━━━━━━━━━━━━━━━\u001b[0m\u001b[37m\u001b[0m \u001b[1m3s\u001b[0m 3ms/step - accuracy: 0.9323 - loss: 0.1854 - val_accuracy: 0.8895 - val_loss: 0.3125\n",
            "Epoch 25/30\n",
            "\u001b[1m938/938\u001b[0m \u001b[32m━━━━━━━━━━━━━━━━━━━━\u001b[0m\u001b[37m\u001b[0m \u001b[1m3s\u001b[0m 3ms/step - accuracy: 0.9339 - loss: 0.1834 - val_accuracy: 0.8792 - val_loss: 0.3331\n",
            "Epoch 26/30\n",
            "\u001b[1m938/938\u001b[0m \u001b[32m━━━━━━━━━━━━━━━━━━━━\u001b[0m\u001b[37m\u001b[0m \u001b[1m3s\u001b[0m 3ms/step - accuracy: 0.9382 - loss: 0.1728 - val_accuracy: 0.8916 - val_loss: 0.3118\n",
            "Epoch 27/30\n",
            "\u001b[1m938/938\u001b[0m \u001b[32m━━━━━━━━━━━━━━━━━━━━\u001b[0m\u001b[37m\u001b[0m \u001b[1m3s\u001b[0m 3ms/step - accuracy: 0.9367 - loss: 0.1726 - val_accuracy: 0.8903 - val_loss: 0.3166\n",
            "Epoch 28/30\n",
            "\u001b[1m938/938\u001b[0m \u001b[32m━━━━━━━━━━━━━━━━━━━━\u001b[0m\u001b[37m\u001b[0m \u001b[1m3s\u001b[0m 3ms/step - accuracy: 0.9375 - loss: 0.1710 - val_accuracy: 0.8914 - val_loss: 0.3168\n",
            "Epoch 29/30\n",
            "\u001b[1m938/938\u001b[0m \u001b[32m━━━━━━━━━━━━━━━━━━━━\u001b[0m\u001b[37m\u001b[0m \u001b[1m3s\u001b[0m 3ms/step - accuracy: 0.9378 - loss: 0.1702 - val_accuracy: 0.8889 - val_loss: 0.3142\n",
            "Epoch 30/30\n",
            "\u001b[1m938/938\u001b[0m \u001b[32m━━━━━━━━━━━━━━━━━━━━\u001b[0m\u001b[37m\u001b[0m \u001b[1m3s\u001b[0m 3ms/step - accuracy: 0.9424 - loss: 0.1613 - val_accuracy: 0.8900 - val_loss: 0.3139\n",
            "Epoch 1: Loss=0.5946, Accuracy=0.8050, Val Loss=0.4645, Val Accuracy=0.8328\n",
            "Epoch 2: Loss=0.4120, Accuracy=0.8529, Val Loss=0.4187, Val Accuracy=0.8471\n",
            "Epoch 3: Loss=0.3747, Accuracy=0.8651, Val Loss=0.4000, Val Accuracy=0.8553\n",
            "Epoch 4: Loss=0.3493, Accuracy=0.8733, Val Loss=0.3770, Val Accuracy=0.8660\n",
            "Epoch 5: Loss=0.3308, Accuracy=0.8808, Val Loss=0.3643, Val Accuracy=0.8694\n",
            "Epoch 6: Loss=0.3158, Accuracy=0.8855, Val Loss=0.3595, Val Accuracy=0.8713\n",
            "Epoch 7: Loss=0.3034, Accuracy=0.8904, Val Loss=0.3572, Val Accuracy=0.8708\n",
            "Epoch 8: Loss=0.2919, Accuracy=0.8931, Val Loss=0.3411, Val Accuracy=0.8776\n",
            "Epoch 9: Loss=0.2823, Accuracy=0.8971, Val Loss=0.3410, Val Accuracy=0.8776\n",
            "Epoch 10: Loss=0.2732, Accuracy=0.8996, Val Loss=0.3424, Val Accuracy=0.8748\n",
            "Epoch 11: Loss=0.2650, Accuracy=0.9025, Val Loss=0.3306, Val Accuracy=0.8813\n",
            "Epoch 12: Loss=0.2588, Accuracy=0.9048, Val Loss=0.3331, Val Accuracy=0.8816\n",
            "Epoch 13: Loss=0.2493, Accuracy=0.9085, Val Loss=0.3318, Val Accuracy=0.8809\n",
            "Epoch 14: Loss=0.2435, Accuracy=0.9098, Val Loss=0.3242, Val Accuracy=0.8823\n",
            "Epoch 15: Loss=0.2357, Accuracy=0.9132, Val Loss=0.3199, Val Accuracy=0.8861\n",
            "Epoch 16: Loss=0.2290, Accuracy=0.9172, Val Loss=0.3255, Val Accuracy=0.8846\n",
            "Epoch 17: Loss=0.2239, Accuracy=0.9178, Val Loss=0.3197, Val Accuracy=0.8848\n",
            "Epoch 18: Loss=0.2179, Accuracy=0.9204, Val Loss=0.3215, Val Accuracy=0.8854\n",
            "Epoch 19: Loss=0.2142, Accuracy=0.9217, Val Loss=0.3138, Val Accuracy=0.8886\n",
            "Epoch 20: Loss=0.2076, Accuracy=0.9242, Val Loss=0.3127, Val Accuracy=0.8903\n",
            "Epoch 21: Loss=0.2028, Accuracy=0.9259, Val Loss=0.3209, Val Accuracy=0.8840\n",
            "Epoch 22: Loss=0.1959, Accuracy=0.9292, Val Loss=0.3114, Val Accuracy=0.8893\n",
            "Epoch 23: Loss=0.1938, Accuracy=0.9307, Val Loss=0.3228, Val Accuracy=0.8866\n",
            "Epoch 24: Loss=0.1884, Accuracy=0.9310, Val Loss=0.3125, Val Accuracy=0.8895\n",
            "Epoch 25: Loss=0.1837, Accuracy=0.9337, Val Loss=0.3331, Val Accuracy=0.8792\n",
            "Epoch 26: Loss=0.1800, Accuracy=0.9351, Val Loss=0.3118, Val Accuracy=0.8916\n",
            "Epoch 27: Loss=0.1757, Accuracy=0.9359, Val Loss=0.3166, Val Accuracy=0.8903\n",
            "Epoch 28: Loss=0.1720, Accuracy=0.9371, Val Loss=0.3168, Val Accuracy=0.8914\n",
            "Epoch 29: Loss=0.1701, Accuracy=0.9376, Val Loss=0.3142, Val Accuracy=0.8889\n",
            "Epoch 30: Loss=0.1650, Accuracy=0.9404, Val Loss=0.3139, Val Accuracy=0.8900\n"
          ]
        }
      ],
      "source": [
        "(train_images, train_labels), (test_images, test_labels) = fashion_mnist.load_data()\n",
        "train_images = train_images / 255.0\n",
        "test_images = test_images / 255.0\n",
        "\n",
        "# Requisitos del modelo:\n",
        "# Hidden layer de 128 unidades, activación sigmoid y optimizador Adam\n",
        "# Última capa con activación softmax\n",
        "model = models.Sequential([\n",
        "    layers.Flatten(input_shape=(28, 28)), \n",
        "    layers.Dense(128, activation='sigmoid'),  \n",
        "    layers.Dense(10, activation='softmax')  \n",
        "])\n",
        "model.compile(optimizer='adam',\n",
        "              loss='sparse_categorical_crossentropy',\n",
        "              metrics=['accuracy'])\n",
        "\n",
        "#Se piden 10 epochs y un batch size de 64 \n",
        "history = model.fit(train_images, train_labels, epochs=30, batch_size=64, validation_data=(test_images, test_labels))\n",
        "\n",
        "# Se muestran también los resultados de loss y accuracy por cada epoch\n",
        "losses = history.history['loss']\n",
        "accuracies = history.history['accuracy']\n",
        "val_losses = history.history['val_loss']\n",
        "val_accuracies = history.history['val_accuracy']\n",
        "\n",
        "for epoch in range(len(losses)):\n",
        "    print(\"Epoch {}: Loss={:.4f}, Accuracy={:.4f}, Val Loss={:.4f}, Val Accuracy={:.4f}\"\n",
        "          .format(epoch+1, losses[epoch], accuracies[epoch], val_losses[epoch], val_accuracies[epoch]))\n",
        "    "
      ]
    },
    {
      "cell_type": "markdown",
      "metadata": {
        "id": "HlIgNG4Yb_N6"
      },
      "source": [
        "# Utilización de Early stop\n"
      ]
    },
    {
      "cell_type": "code",
      "execution_count": 23,
      "metadata": {
        "id": "b5UwceFUG4ic"
      },
      "outputs": [],
      "source": [
        "### Ejemplo de código\n",
        "\n",
        "class myCallback(tf.keras.callbacks.Callback):\n",
        "      def on_epoch_end(self, epoch, logs={}):\n",
        "        if(logs.get('accuracy')> 0.85):\n",
        "              print(\"\\nAlcanzado el 85% de precisión, se cancela el entrenamiento!!\")\n",
        "              self.model.stop_training = True"
      ]
    },
    {
      "cell_type": "code",
      "execution_count": 24,
      "metadata": {
        "id": "29LSfdOvc270"
      },
      "outputs": [
        {
          "name": "stdout",
          "output_type": "stream",
          "text": [
            "2.15.0\n"
          ]
        },
        {
          "name": "stdout",
          "output_type": "stream",
          "text": [
            "Epoch 1/50\n",
            "\u001b[1m1868/1875\u001b[0m \u001b[32m━━━━━━━━━━━━━━━━━━━\u001b[0m\u001b[37m━\u001b[0m \u001b[1m0s\u001b[0m 3ms/step - accuracy: 0.7845 - loss: 0.6111\n",
            "Alcanzado el 40% de pérdida, se cancela el entrenamiento!!\n",
            "\u001b[1m1875/1875\u001b[0m \u001b[32m━━━━━━━━━━━━━━━━━━━━\u001b[0m\u001b[37m\u001b[0m \u001b[1m7s\u001b[0m 3ms/step - accuracy: 0.7847 - loss: 0.6105\n"
          ]
        },
        {
          "data": {
            "text/plain": [
              "<keras.src.callbacks.history.History at 0x1eabdd44250>"
            ]
          },
          "execution_count": 24,
          "metadata": {},
          "output_type": "execute_result"
        }
      ],
      "source": [
        "import tensorflow as tf\n",
        "print(tf.__version__)\n",
        "\n",
        "class MyCallback(tf.keras.callbacks.Callback):\n",
        "    def on_epoch_end(self, epoch, logs=None):\n",
        "        if logs.get('loss') is not None and logs.get('loss') >= 0.4:\n",
        "            print(\"\\nAlcanzado el 40% de pérdida, se cancela el entrenamiento!!\")\n",
        "            self.model.stop_training = True\n",
        "\n",
        "mnist = tf.keras.datasets.fashion_mnist\n",
        "(training_images, training_labels) ,  (test_images, test_labels) = mnist.load_data()\n",
        "\n",
        "training_images = training_images/255.0\n",
        "test_images = test_images/255.0\n",
        "\n",
        "model = tf.keras.models.Sequential([tf.keras.layers.Flatten(),\n",
        "                                    tf.keras.layers.Dense(512, activation=tf.nn.relu),\n",
        "                                    tf.keras.layers.Dense(10, activation=tf.nn.softmax)])\n",
        "\n",
        "model.compile(optimizer = 'adam',\n",
        "              loss = 'sparse_categorical_crossentropy',\n",
        "              metrics=['accuracy']) \n",
        "callbacks = MyCallback()\n",
        "\n",
        "model.fit(training_images, training_labels, epochs=50, callbacks=[callbacks])"
      ]
    },
    {
      "cell_type": "markdown",
      "metadata": {
        "id": "M_yZ9B8gTFqR"
      },
      "source": [
        "## Utilización de unidades de activación"
      ]
    },
    {
      "cell_type": "code",
      "execution_count": 25,
      "metadata": {
        "id": "hoYUajTuTFqS"
      },
      "outputs": [
        {
          "name": "stdout",
          "output_type": "stream",
          "text": [
            "Epoch 1/10\n",
            "\u001b[1m1875/1875\u001b[0m \u001b[32m━━━━━━━━━━━━━━━━━━━━\u001b[0m\u001b[37m\u001b[0m \u001b[1m10s\u001b[0m 5ms/step - accuracy: 0.7022 - loss: 0.8249 - val_accuracy: 0.8477 - val_loss: 0.4326\n",
            "Epoch 2/10\n",
            "\u001b[1m1875/1875\u001b[0m \u001b[32m━━━━━━━━━━━━━━━━━━━━\u001b[0m\u001b[37m\u001b[0m \u001b[1m9s\u001b[0m 5ms/step - accuracy: 0.8569 - loss: 0.3920 - val_accuracy: 0.8566 - val_loss: 0.4026\n",
            "Epoch 3/10\n",
            "\u001b[1m1875/1875\u001b[0m \u001b[32m━━━━━━━━━━━━━━━━━━━━\u001b[0m\u001b[37m\u001b[0m \u001b[1m9s\u001b[0m 5ms/step - accuracy: 0.8740 - loss: 0.3411 - val_accuracy: 0.8568 - val_loss: 0.3853\n",
            "Epoch 4/10\n",
            "\u001b[1m1875/1875\u001b[0m \u001b[32m━━━━━━━━━━━━━━━━━━━━\u001b[0m\u001b[37m\u001b[0m \u001b[1m9s\u001b[0m 5ms/step - accuracy: 0.8826 - loss: 0.3141 - val_accuracy: 0.8704 - val_loss: 0.3567\n",
            "Epoch 5/10\n",
            "\u001b[1m1875/1875\u001b[0m \u001b[32m━━━━━━━━━━━━━━━━━━━━\u001b[0m\u001b[37m\u001b[0m \u001b[1m9s\u001b[0m 5ms/step - accuracy: 0.8906 - loss: 0.2949 - val_accuracy: 0.8801 - val_loss: 0.3419\n",
            "Epoch 6/10\n",
            "\u001b[1m1875/1875\u001b[0m \u001b[32m━━━━━━━━━━━━━━━━━━━━\u001b[0m\u001b[37m\u001b[0m \u001b[1m9s\u001b[0m 5ms/step - accuracy: 0.8979 - loss: 0.2789 - val_accuracy: 0.8803 - val_loss: 0.3323\n",
            "Epoch 7/10\n",
            "\u001b[1m1875/1875\u001b[0m \u001b[32m━━━━━━━━━━━━━━━━━━━━\u001b[0m\u001b[37m\u001b[0m \u001b[1m9s\u001b[0m 5ms/step - accuracy: 0.8996 - loss: 0.2667 - val_accuracy: 0.8826 - val_loss: 0.3248\n",
            "Epoch 8/10\n",
            "\u001b[1m1875/1875\u001b[0m \u001b[32m━━━━━━━━━━━━━━━━━━━━\u001b[0m\u001b[37m\u001b[0m \u001b[1m9s\u001b[0m 5ms/step - accuracy: 0.9070 - loss: 0.2474 - val_accuracy: 0.8822 - val_loss: 0.3333\n",
            "Epoch 9/10\n",
            "\u001b[1m1875/1875\u001b[0m \u001b[32m━━━━━━━━━━━━━━━━━━━━\u001b[0m\u001b[37m\u001b[0m \u001b[1m9s\u001b[0m 5ms/step - accuracy: 0.9094 - loss: 0.2378 - val_accuracy: 0.8882 - val_loss: 0.3260\n",
            "Epoch 10/10\n",
            "\u001b[1m1875/1875\u001b[0m \u001b[32m━━━━━━━━━━━━━━━━━━━━\u001b[0m\u001b[37m\u001b[0m \u001b[1m9s\u001b[0m 5ms/step - accuracy: 0.9150 - loss: 0.2243 - val_accuracy: 0.8923 - val_loss: 0.3100\n",
            "Epoch 1/10\n",
            "\u001b[1m1875/1875\u001b[0m \u001b[32m━━━━━━━━━━━━━━━━━━━━\u001b[0m\u001b[37m\u001b[0m \u001b[1m10s\u001b[0m 5ms/step - accuracy: 0.7902 - loss: 0.5900 - val_accuracy: 0.8476 - val_loss: 0.4289\n",
            "Epoch 2/10\n",
            "\u001b[1m1875/1875\u001b[0m \u001b[32m━━━━━━━━━━━━━━━━━━━━\u001b[0m\u001b[37m\u001b[0m \u001b[1m9s\u001b[0m 5ms/step - accuracy: 0.8605 - loss: 0.3705 - val_accuracy: 0.8597 - val_loss: 0.3745\n",
            "Epoch 3/10\n",
            "\u001b[1m1875/1875\u001b[0m \u001b[32m━━━━━━━━━━━━━━━━━━━━\u001b[0m\u001b[37m\u001b[0m \u001b[1m9s\u001b[0m 5ms/step - accuracy: 0.8770 - loss: 0.3327 - val_accuracy: 0.8635 - val_loss: 0.3728\n",
            "Epoch 4/10\n",
            "\u001b[1m1875/1875\u001b[0m \u001b[32m━━━━━━━━━━━━━━━━━━━━\u001b[0m\u001b[37m\u001b[0m \u001b[1m9s\u001b[0m 5ms/step - accuracy: 0.8853 - loss: 0.3057 - val_accuracy: 0.8695 - val_loss: 0.3630\n",
            "Epoch 5/10\n",
            "\u001b[1m1875/1875\u001b[0m \u001b[32m━━━━━━━━━━━━━━━━━━━━\u001b[0m\u001b[37m\u001b[0m \u001b[1m9s\u001b[0m 5ms/step - accuracy: 0.8947 - loss: 0.2844 - val_accuracy: 0.8747 - val_loss: 0.3724\n",
            "Epoch 6/10\n",
            "\u001b[1m1875/1875\u001b[0m \u001b[32m━━━━━━━━━━━━━━━━━━━━\u001b[0m\u001b[37m\u001b[0m \u001b[1m9s\u001b[0m 5ms/step - accuracy: 0.8997 - loss: 0.2677 - val_accuracy: 0.8806 - val_loss: 0.3334\n",
            "Epoch 7/10\n",
            "\u001b[1m1875/1875\u001b[0m \u001b[32m━━━━━━━━━━━━━━━━━━━━\u001b[0m\u001b[37m\u001b[0m \u001b[1m9s\u001b[0m 5ms/step - accuracy: 0.9055 - loss: 0.2544 - val_accuracy: 0.8706 - val_loss: 0.3574\n",
            "Epoch 8/10\n",
            "\u001b[1m1875/1875\u001b[0m \u001b[32m━━━━━━━━━━━━━━━━━━━━\u001b[0m\u001b[37m\u001b[0m \u001b[1m9s\u001b[0m 5ms/step - accuracy: 0.9076 - loss: 0.2437 - val_accuracy: 0.8831 - val_loss: 0.3281\n",
            "Epoch 9/10\n",
            "\u001b[1m1875/1875\u001b[0m \u001b[32m━━━━━━━━━━━━━━━━━━━━\u001b[0m\u001b[37m\u001b[0m \u001b[1m9s\u001b[0m 5ms/step - accuracy: 0.9110 - loss: 0.2356 - val_accuracy: 0.8838 - val_loss: 0.3584\n",
            "Epoch 10/10\n",
            "\u001b[1m1875/1875\u001b[0m \u001b[32m━━━━━━━━━━━━━━━━━━━━\u001b[0m\u001b[37m\u001b[0m \u001b[1m9s\u001b[0m 5ms/step - accuracy: 0.9105 - loss: 0.2329 - val_accuracy: 0.8726 - val_loss: 0.3711\n"
          ]
        }
      ],
      "source": [
        "# Primer modelo con unidades sigmoid:\n",
        "model_sigmoid = models.Sequential([\n",
        "    layers.Flatten(input_shape=(28, 28)),\n",
        "    layers.Dense(512, activation='sigmoid'),\n",
        "    layers.Dense(256, activation='sigmoid'),\n",
        "    layers.Dense(128, activation='sigmoid'),\n",
        "    layers.Dense(10, activation='softmax')\n",
        "])\n",
        "\n",
        "model_sigmoid.compile(optimizer='adam',\n",
        "                      loss='sparse_categorical_crossentropy',\n",
        "                      metrics=['accuracy'])\n",
        "\n",
        "history_sigmoid = model_sigmoid.fit(train_images, train_labels, epochs=10, validation_data=(test_images, test_labels))\n",
        "\n",
        "# Segundo modelo con unidades ReLU:\n",
        "model_relu = models.Sequential([\n",
        "    layers.Flatten(input_shape=(28, 28)),\n",
        "    layers.Dense(512, activation='relu'),\n",
        "    layers.Dense(256, activation='relu'),\n",
        "    layers.Dense(128, activation='relu'),\n",
        "    layers.Dense(10, activation='softmax')\n",
        "])\n",
        "\n",
        "model_relu.compile(optimizer='adam',\n",
        "                   loss='sparse_categorical_crossentropy',\n",
        "                   metrics=['accuracy'])\n",
        "\n",
        "history_relu = model_relu.fit(train_images, train_labels, epochs=10, validation_data=(test_images, test_labels))\n"
      ]
    },
    {
      "cell_type": "code",
      "execution_count": 26,
      "metadata": {},
      "outputs": [
        {
          "name": "stdout",
          "output_type": "stream",
          "text": [
            "Epoch 1/10\n",
            "\u001b[1m1875/1875\u001b[0m \u001b[32m━━━━━━━━━━━━━━━━━━━━\u001b[0m\u001b[37m\u001b[0m \u001b[1m11s\u001b[0m 5ms/step - accuracy: 0.7894 - loss: 0.5745 - val_accuracy: 0.8497 - val_loss: 0.4118\n",
            "Epoch 2/10\n",
            "\u001b[1m1875/1875\u001b[0m \u001b[32m━━━━━━━━━━━━━━━━━━━━\u001b[0m\u001b[37m\u001b[0m \u001b[1m9s\u001b[0m 5ms/step - accuracy: 0.8567 - loss: 0.3925 - val_accuracy: 0.8446 - val_loss: 0.4066\n",
            "Epoch 3/10\n",
            "\u001b[1m1875/1875\u001b[0m \u001b[32m━━━━━━━━━━━━━━━━━━━━\u001b[0m\u001b[37m\u001b[0m \u001b[1m9s\u001b[0m 5ms/step - accuracy: 0.8697 - loss: 0.3527 - val_accuracy: 0.8656 - val_loss: 0.3663\n",
            "Epoch 4/10\n",
            "\u001b[1m1875/1875\u001b[0m \u001b[32m━━━━━━━━━━━━━━━━━━━━\u001b[0m\u001b[37m\u001b[0m \u001b[1m9s\u001b[0m 5ms/step - accuracy: 0.8761 - loss: 0.3327 - val_accuracy: 0.8543 - val_loss: 0.3892\n",
            "Epoch 5/10\n",
            "\u001b[1m1875/1875\u001b[0m \u001b[32m━━━━━━━━━━━━━━━━━━━━\u001b[0m\u001b[37m\u001b[0m \u001b[1m10s\u001b[0m 5ms/step - accuracy: 0.8813 - loss: 0.3214 - val_accuracy: 0.8578 - val_loss: 0.3838\n",
            "Epoch 6/10\n",
            "\u001b[1m1875/1875\u001b[0m \u001b[32m━━━━━━━━━━━━━━━━━━━━\u001b[0m\u001b[37m\u001b[0m \u001b[1m9s\u001b[0m 5ms/step - accuracy: 0.8854 - loss: 0.3088 - val_accuracy: 0.8679 - val_loss: 0.3671\n",
            "Epoch 7/10\n",
            "\u001b[1m1875/1875\u001b[0m \u001b[32m━━━━━━━━━━━━━━━━━━━━\u001b[0m\u001b[37m\u001b[0m \u001b[1m9s\u001b[0m 5ms/step - accuracy: 0.8868 - loss: 0.3013 - val_accuracy: 0.8693 - val_loss: 0.3700\n",
            "Epoch 8/10\n",
            "\u001b[1m1875/1875\u001b[0m \u001b[32m━━━━━━━━━━━━━━━━━━━━\u001b[0m\u001b[37m\u001b[0m \u001b[1m10s\u001b[0m 5ms/step - accuracy: 0.8880 - loss: 0.3002 - val_accuracy: 0.8688 - val_loss: 0.3747\n",
            "Epoch 9/10\n",
            "\u001b[1m1875/1875\u001b[0m \u001b[32m━━━━━━━━━━━━━━━━━━━━\u001b[0m\u001b[37m\u001b[0m \u001b[1m10s\u001b[0m 5ms/step - accuracy: 0.8903 - loss: 0.2948 - val_accuracy: 0.8722 - val_loss: 0.3573\n",
            "Epoch 10/10\n",
            "\u001b[1m1875/1875\u001b[0m \u001b[32m━━━━━━━━━━━━━━━━━━━━\u001b[0m\u001b[37m\u001b[0m \u001b[1m9s\u001b[0m 5ms/step - accuracy: 0.8955 - loss: 0.2860 - val_accuracy: 0.8730 - val_loss: 0.3519\n"
          ]
        }
      ],
      "source": [
        "#Creación del Modelo con TanH \n",
        "model_tanh = models.Sequential([\n",
        "    layers.Flatten(input_shape=(28, 28)),\n",
        "    layers.Dense(512, activation='tanh'),\n",
        "    layers.Dense(256, activation='tanh'),\n",
        "    layers.Dense(128, activation='tanh'),\n",
        "    layers.Dense(10, activation='softmax')\n",
        "])\n",
        "\n",
        "model_tanh.compile(optimizer='adam',\n",
        "                   loss='sparse_categorical_crossentropy',\n",
        "                   metrics=['accuracy'])\n",
        "\n",
        "\n",
        "history_tanh = model_tanh.fit(train_images, train_labels, epochs=10, validation_data=(test_images, test_labels))"
      ]
    },
    {
      "cell_type": "code",
      "execution_count": 27,
      "metadata": {
        "id": "qcMt7pSkTFqU"
      },
      "outputs": [
        {
          "name": "stdout",
          "output_type": "stream",
          "text": [
            "Epoch 1/10\n",
            "\u001b[1m1875/1875\u001b[0m \u001b[32m━━━━━━━━━━━━━━━━━━━━\u001b[0m\u001b[37m\u001b[0m \u001b[1m6s\u001b[0m 3ms/step - accuracy: 0.1017 - loss: 2.3027 - val_accuracy: 0.1000 - val_loss: 2.3026\n",
            "Epoch 2/10\n",
            "\u001b[1m1875/1875\u001b[0m \u001b[32m━━━━━━━━━━━━━━━━━━━━\u001b[0m\u001b[37m\u001b[0m \u001b[1m5s\u001b[0m 3ms/step - accuracy: 0.0982 - loss: 2.3028 - val_accuracy: 0.1000 - val_loss: 2.3027\n",
            "Epoch 3/10\n",
            "\u001b[1m1875/1875\u001b[0m \u001b[32m━━━━━━━━━━━━━━━━━━━━\u001b[0m\u001b[37m\u001b[0m \u001b[1m5s\u001b[0m 3ms/step - accuracy: 0.0999 - loss: 2.3027 - val_accuracy: 0.1000 - val_loss: 2.3026\n",
            "Epoch 4/10\n",
            "\u001b[1m1875/1875\u001b[0m \u001b[32m━━━━━━━━━━━━━━━━━━━━\u001b[0m\u001b[37m\u001b[0m \u001b[1m6s\u001b[0m 3ms/step - accuracy: 0.1002 - loss: 2.3027 - val_accuracy: 0.1000 - val_loss: 2.3026\n",
            "Epoch 5/10\n",
            "\u001b[1m1875/1875\u001b[0m \u001b[32m━━━━━━━━━━━━━━━━━━━━\u001b[0m\u001b[37m\u001b[0m \u001b[1m5s\u001b[0m 3ms/step - accuracy: 0.1011 - loss: 2.3027 - val_accuracy: 0.1000 - val_loss: 2.3026\n",
            "Epoch 6/10\n",
            "\u001b[1m1875/1875\u001b[0m \u001b[32m━━━━━━━━━━━━━━━━━━━━\u001b[0m\u001b[37m\u001b[0m \u001b[1m5s\u001b[0m 3ms/step - accuracy: 0.0990 - loss: 2.3027 - val_accuracy: 0.1000 - val_loss: 2.3026\n",
            "Epoch 7/10\n",
            "\u001b[1m1875/1875\u001b[0m \u001b[32m━━━━━━━━━━━━━━━━━━━━\u001b[0m\u001b[37m\u001b[0m \u001b[1m6s\u001b[0m 3ms/step - accuracy: 0.0974 - loss: 2.3027 - val_accuracy: 0.1000 - val_loss: 2.3027\n",
            "Epoch 8/10\n",
            "\u001b[1m1875/1875\u001b[0m \u001b[32m━━━━━━━━━━━━━━━━━━━━\u001b[0m\u001b[37m\u001b[0m \u001b[1m6s\u001b[0m 3ms/step - accuracy: 0.0973 - loss: 2.3028 - val_accuracy: 0.1000 - val_loss: 2.3027\n",
            "Epoch 9/10\n",
            "\u001b[1m1875/1875\u001b[0m \u001b[32m━━━━━━━━━━━━━━━━━━━━\u001b[0m\u001b[37m\u001b[0m \u001b[1m5s\u001b[0m 3ms/step - accuracy: 0.0990 - loss: 2.3028 - val_accuracy: 0.1000 - val_loss: 2.3026\n",
            "Epoch 10/10\n",
            "\u001b[1m1875/1875\u001b[0m \u001b[32m━━━━━━━━━━━━━━━━━━━━\u001b[0m\u001b[37m\u001b[0m \u001b[1m5s\u001b[0m 3ms/step - accuracy: 0.0995 - loss: 2.3027 - val_accuracy: 0.1000 - val_loss: 2.3027\n",
            "Epoch 1/10\n",
            "\u001b[1m1875/1875\u001b[0m \u001b[32m━━━━━━━━━━━━━━━━━━━━\u001b[0m\u001b[37m\u001b[0m \u001b[1m6s\u001b[0m 3ms/step - accuracy: 0.7866 - loss: 0.6081 - val_accuracy: 0.8532 - val_loss: 0.4102\n",
            "Epoch 2/10\n",
            "\u001b[1m1875/1875\u001b[0m \u001b[32m━━━━━━━━━━━━━━━━━━━━\u001b[0m\u001b[37m\u001b[0m \u001b[1m5s\u001b[0m 3ms/step - accuracy: 0.8626 - loss: 0.3804 - val_accuracy: 0.8610 - val_loss: 0.3878\n",
            "Epoch 3/10\n",
            "\u001b[1m1875/1875\u001b[0m \u001b[32m━━━━━━━━━━━━━━━━━━━━\u001b[0m\u001b[37m\u001b[0m \u001b[1m5s\u001b[0m 3ms/step - accuracy: 0.8800 - loss: 0.3336 - val_accuracy: 0.8664 - val_loss: 0.3677\n",
            "Epoch 4/10\n",
            "\u001b[1m1875/1875\u001b[0m \u001b[32m━━━━━━━━━━━━━━━━━━━━\u001b[0m\u001b[37m\u001b[0m \u001b[1m5s\u001b[0m 3ms/step - accuracy: 0.8844 - loss: 0.3090 - val_accuracy: 0.8706 - val_loss: 0.3528\n",
            "Epoch 5/10\n",
            "\u001b[1m1875/1875\u001b[0m \u001b[32m━━━━━━━━━━━━━━━━━━━━\u001b[0m\u001b[37m\u001b[0m \u001b[1m5s\u001b[0m 3ms/step - accuracy: 0.8910 - loss: 0.2891 - val_accuracy: 0.8742 - val_loss: 0.3443\n",
            "Epoch 6/10\n",
            "\u001b[1m1875/1875\u001b[0m \u001b[32m━━━━━━━━━━━━━━━━━━━━\u001b[0m\u001b[37m\u001b[0m \u001b[1m5s\u001b[0m 3ms/step - accuracy: 0.8998 - loss: 0.2700 - val_accuracy: 0.8761 - val_loss: 0.3386\n",
            "Epoch 7/10\n",
            "\u001b[1m1875/1875\u001b[0m \u001b[32m━━━━━━━━━━━━━━━━━━━━\u001b[0m\u001b[37m\u001b[0m \u001b[1m5s\u001b[0m 3ms/step - accuracy: 0.9028 - loss: 0.2596 - val_accuracy: 0.8829 - val_loss: 0.3315\n",
            "Epoch 8/10\n",
            "\u001b[1m1875/1875\u001b[0m \u001b[32m━━━━━━━━━━━━━━━━━━━━\u001b[0m\u001b[37m\u001b[0m \u001b[1m5s\u001b[0m 3ms/step - accuracy: 0.9051 - loss: 0.2536 - val_accuracy: 0.8781 - val_loss: 0.3548\n",
            "Epoch 9/10\n",
            "\u001b[1m1875/1875\u001b[0m \u001b[32m━━━━━━━━━━━━━━━━━━━━\u001b[0m\u001b[37m\u001b[0m \u001b[1m6s\u001b[0m 3ms/step - accuracy: 0.9077 - loss: 0.2447 - val_accuracy: 0.8856 - val_loss: 0.3237\n",
            "Epoch 10/10\n",
            "\u001b[1m1875/1875\u001b[0m \u001b[32m━━━━━━━━━━━━━━━━━━━━\u001b[0m\u001b[37m\u001b[0m \u001b[1m6s\u001b[0m 3ms/step - accuracy: 0.9133 - loss: 0.2324 - val_accuracy: 0.8852 - val_loss: 0.3299\n",
            "Epoch 1/10\n",
            "\u001b[1m1875/1875\u001b[0m \u001b[32m━━━━━━━━━━━━━━━━━━━━\u001b[0m\u001b[37m\u001b[0m \u001b[1m6s\u001b[0m 3ms/step - accuracy: 0.7835 - loss: 0.6232 - val_accuracy: 0.8485 - val_loss: 0.4291\n",
            "Epoch 2/10\n",
            "\u001b[1m1875/1875\u001b[0m \u001b[32m━━━━━━━━━━━━━━━━━━━━\u001b[0m\u001b[37m\u001b[0m \u001b[1m5s\u001b[0m 3ms/step - accuracy: 0.8625 - loss: 0.3834 - val_accuracy: 0.8595 - val_loss: 0.3924\n",
            "Epoch 3/10\n",
            "\u001b[1m1875/1875\u001b[0m \u001b[32m━━━━━━━━━━━━━━━━━━━━\u001b[0m\u001b[37m\u001b[0m \u001b[1m5s\u001b[0m 3ms/step - accuracy: 0.8773 - loss: 0.3391 - val_accuracy: 0.8718 - val_loss: 0.3521\n",
            "Epoch 4/10\n",
            "\u001b[1m1875/1875\u001b[0m \u001b[32m━━━━━━━━━━━━━━━━━━━━\u001b[0m\u001b[37m\u001b[0m \u001b[1m5s\u001b[0m 3ms/step - accuracy: 0.8880 - loss: 0.3106 - val_accuracy: 0.8687 - val_loss: 0.3631\n",
            "Epoch 5/10\n",
            "\u001b[1m1875/1875\u001b[0m \u001b[32m━━━━━━━━━━━━━━━━━━━━\u001b[0m\u001b[37m\u001b[0m \u001b[1m5s\u001b[0m 3ms/step - accuracy: 0.8922 - loss: 0.2921 - val_accuracy: 0.8760 - val_loss: 0.3459\n",
            "Epoch 6/10\n",
            "\u001b[1m1875/1875\u001b[0m \u001b[32m━━━━━━━━━━━━━━━━━━━━\u001b[0m\u001b[37m\u001b[0m \u001b[1m6s\u001b[0m 3ms/step - accuracy: 0.8965 - loss: 0.2775 - val_accuracy: 0.8795 - val_loss: 0.3389\n",
            "Epoch 7/10\n",
            "\u001b[1m1875/1875\u001b[0m \u001b[32m━━━━━━━━━━━━━━━━━━━━\u001b[0m\u001b[37m\u001b[0m \u001b[1m5s\u001b[0m 3ms/step - accuracy: 0.9013 - loss: 0.2615 - val_accuracy: 0.8743 - val_loss: 0.3408\n",
            "Epoch 8/10\n",
            "\u001b[1m1875/1875\u001b[0m \u001b[32m━━━━━━━━━━━━━━━━━━━━\u001b[0m\u001b[37m\u001b[0m \u001b[1m5s\u001b[0m 3ms/step - accuracy: 0.9063 - loss: 0.2539 - val_accuracy: 0.8783 - val_loss: 0.3503\n",
            "Epoch 9/10\n",
            "\u001b[1m1875/1875\u001b[0m \u001b[32m━━━━━━━━━━━━━━━━━━━━\u001b[0m\u001b[37m\u001b[0m \u001b[1m5s\u001b[0m 3ms/step - accuracy: 0.9065 - loss: 0.2503 - val_accuracy: 0.8799 - val_loss: 0.3417\n",
            "Epoch 10/10\n",
            "\u001b[1m1875/1875\u001b[0m \u001b[32m━━━━━━━━━━━━━━━━━━━━\u001b[0m\u001b[37m\u001b[0m \u001b[1m5s\u001b[0m 3ms/step - accuracy: 0.9126 - loss: 0.2349 - val_accuracy: 0.8804 - val_loss: 0.3370\n"
          ]
        }
      ],
      "source": [
        "# Primer modelo con inicialización de parámetros con ceros:\n",
        "model_zeros = models.Sequential([\n",
        "    layers.Flatten(input_shape=(28, 28)),\n",
        "    layers.Dense(128, activation='relu', kernel_initializer='zeros'),\n",
        "    layers.Dense(10, activation='softmax')\n",
        "])\n",
        "\n",
        "model_zeros.compile(optimizer='adam',\n",
        "                    loss='sparse_categorical_crossentropy',\n",
        "                    metrics=['accuracy'])\n",
        "history_zeros = model_zeros.fit(train_images, train_labels, epochs=10, validation_data=(test_images, test_labels))\n",
        "\n",
        "# Segundo modelo con inicialización de parámetros con una variable aleatoria normal:\n",
        "model_normal = models.Sequential([\n",
        "    layers.Flatten(input_shape=(28, 28)),\n",
        "    layers.Dense(128, activation='relu', kernel_initializer='random_normal'),\n",
        "    layers.Dense(10, activation='softmax')\n",
        "])\n",
        "\n",
        "model_normal.compile(optimizer='adam',\n",
        "                     loss='sparse_categorical_crossentropy',\n",
        "                     metrics=['accuracy'])\n",
        "history_normal = model_normal.fit(train_images, train_labels, epochs=10, validation_data=(test_images, test_labels))\n",
        "\n",
        "# Tercer modelo con inicialización de parámetros con capa dense de estrategia glorot uniform:\n",
        "model_glorot_uniform = models.Sequential([\n",
        "    layers.Flatten(input_shape=(28, 28)),\n",
        "    layers.Dense(128, activation='relu', kernel_initializer='glorot_uniform'),\n",
        "    layers.Dense(10, activation='softmax')\n",
        "])\n",
        "\n",
        "model_glorot_uniform.compile(optimizer='adam',\n",
        "                              loss='sparse_categorical_crossentropy',\n",
        "                              metrics=['accuracy'])\n",
        "history_glorot_uniform = model_glorot_uniform.fit(train_images, train_labels, epochs=10, validation_data=(test_images, test_labels))\n"
      ]
    },
    {
      "cell_type": "markdown",
      "metadata": {
        "id": "NqIAyVWrTFqV"
      },
      "source": [
        "## Utilización de Optimizadores"
      ]
    },
    {
      "cell_type": "code",
      "execution_count": 28,
      "metadata": {
        "id": "0fWDiqXvTFqW"
      },
      "outputs": [
        {
          "name": "stdout",
          "output_type": "stream",
          "text": [
            "Epoch 1/10\n",
            "\u001b[1m938/938\u001b[0m \u001b[32m━━━━━━━━━━━━━━━━━━━━\u001b[0m\u001b[37m\u001b[0m \u001b[1m4s\u001b[0m 3ms/step - accuracy: 0.7301 - loss: 0.8408 - val_accuracy: 0.8288 - val_loss: 0.4796\n",
            "Epoch 2/10\n",
            "\u001b[1m938/938\u001b[0m \u001b[32m━━━━━━━━━━━━━━━━━━━━\u001b[0m\u001b[37m\u001b[0m \u001b[1m3s\u001b[0m 3ms/step - accuracy: 0.8458 - loss: 0.4266 - val_accuracy: 0.8475 - val_loss: 0.4242\n",
            "Epoch 3/10\n",
            "\u001b[1m938/938\u001b[0m \u001b[32m━━━━━━━━━━━━━━━━━━━━\u001b[0m\u001b[37m\u001b[0m \u001b[1m3s\u001b[0m 3ms/step - accuracy: 0.8597 - loss: 0.3875 - val_accuracy: 0.8535 - val_loss: 0.3984\n",
            "Epoch 4/10\n",
            "\u001b[1m938/938\u001b[0m \u001b[32m━━━━━━━━━━━━━━━━━━━━\u001b[0m\u001b[37m\u001b[0m \u001b[1m3s\u001b[0m 3ms/step - accuracy: 0.8739 - loss: 0.3513 - val_accuracy: 0.8628 - val_loss: 0.3779\n",
            "Epoch 5/10\n",
            "\u001b[1m938/938\u001b[0m \u001b[32m━━━━━━━━━━━━━━━━━━━━\u001b[0m\u001b[37m\u001b[0m \u001b[1m3s\u001b[0m 3ms/step - accuracy: 0.8802 - loss: 0.3298 - val_accuracy: 0.8618 - val_loss: 0.3822\n",
            "Epoch 6/10\n",
            "\u001b[1m938/938\u001b[0m \u001b[32m━━━━━━━━━━━━━━━━━━━━\u001b[0m\u001b[37m\u001b[0m \u001b[1m3s\u001b[0m 3ms/step - accuracy: 0.8843 - loss: 0.3165 - val_accuracy: 0.8648 - val_loss: 0.3683\n",
            "Epoch 7/10\n",
            "\u001b[1m938/938\u001b[0m \u001b[32m━━━━━━━━━━━━━━━━━━━━\u001b[0m\u001b[37m\u001b[0m \u001b[1m3s\u001b[0m 3ms/step - accuracy: 0.8898 - loss: 0.3041 - val_accuracy: 0.8755 - val_loss: 0.3532\n",
            "Epoch 8/10\n",
            "\u001b[1m938/938\u001b[0m \u001b[32m━━━━━━━━━━━━━━━━━━━━\u001b[0m\u001b[37m\u001b[0m \u001b[1m3s\u001b[0m 3ms/step - accuracy: 0.8921 - loss: 0.2944 - val_accuracy: 0.8748 - val_loss: 0.3438\n",
            "Epoch 9/10\n",
            "\u001b[1m938/938\u001b[0m \u001b[32m━━━━━━━━━━━━━━━━━━━━\u001b[0m\u001b[37m\u001b[0m \u001b[1m3s\u001b[0m 3ms/step - accuracy: 0.8967 - loss: 0.2798 - val_accuracy: 0.8774 - val_loss: 0.3399\n",
            "Epoch 10/10\n",
            "\u001b[1m938/938\u001b[0m \u001b[32m━━━━━━━━━━━━━━━━━━━━\u001b[0m\u001b[37m\u001b[0m \u001b[1m3s\u001b[0m 3ms/step - accuracy: 0.8998 - loss: 0.2746 - val_accuracy: 0.8743 - val_loss: 0.3406\n",
            "Epoch 1/10\n",
            "\u001b[1m938/938\u001b[0m \u001b[32m━━━━━━━━━━━━━━━━━━━━\u001b[0m\u001b[37m\u001b[0m \u001b[1m3s\u001b[0m 3ms/step - accuracy: 0.4883 - loss: 1.8693 - val_accuracy: 0.6906 - val_loss: 1.1314\n",
            "Epoch 2/10\n",
            "\u001b[1m938/938\u001b[0m \u001b[32m━━━━━━━━━━━━━━━━━━━━\u001b[0m\u001b[37m\u001b[0m \u001b[1m3s\u001b[0m 3ms/step - accuracy: 0.7153 - loss: 1.0360 - val_accuracy: 0.7295 - val_loss: 0.8754\n",
            "Epoch 3/10\n",
            "\u001b[1m938/938\u001b[0m \u001b[32m━━━━━━━━━━━━━━━━━━━━\u001b[0m\u001b[37m\u001b[0m \u001b[1m3s\u001b[0m 3ms/step - accuracy: 0.7424 - loss: 0.8362 - val_accuracy: 0.7460 - val_loss: 0.7691\n",
            "Epoch 4/10\n",
            "\u001b[1m938/938\u001b[0m \u001b[32m━━━━━━━━━━━━━━━━━━━━\u001b[0m\u001b[37m\u001b[0m \u001b[1m2s\u001b[0m 3ms/step - accuracy: 0.7603 - loss: 0.7368 - val_accuracy: 0.7584 - val_loss: 0.7105\n",
            "Epoch 5/10\n",
            "\u001b[1m938/938\u001b[0m \u001b[32m━━━━━━━━━━━━━━━━━━━━\u001b[0m\u001b[37m\u001b[0m \u001b[1m2s\u001b[0m 3ms/step - accuracy: 0.7672 - loss: 0.6863 - val_accuracy: 0.7669 - val_loss: 0.6717\n",
            "Epoch 6/10\n",
            "\u001b[1m938/938\u001b[0m \u001b[32m━━━━━━━━━━━━━━━━━━━━\u001b[0m\u001b[37m\u001b[0m \u001b[1m3s\u001b[0m 3ms/step - accuracy: 0.7789 - loss: 0.6477 - val_accuracy: 0.7743 - val_loss: 0.6422\n",
            "Epoch 7/10\n",
            "\u001b[1m938/938\u001b[0m \u001b[32m━━━━━━━━━━━━━━━━━━━━\u001b[0m\u001b[37m\u001b[0m \u001b[1m3s\u001b[0m 4ms/step - accuracy: 0.7867 - loss: 0.6208 - val_accuracy: 0.7821 - val_loss: 0.6189\n",
            "Epoch 8/10\n",
            "\u001b[1m938/938\u001b[0m \u001b[32m━━━━━━━━━━━━━━━━━━━━\u001b[0m\u001b[37m\u001b[0m \u001b[1m3s\u001b[0m 3ms/step - accuracy: 0.7955 - loss: 0.5948 - val_accuracy: 0.7883 - val_loss: 0.6006\n",
            "Epoch 9/10\n",
            "\u001b[1m938/938\u001b[0m \u001b[32m━━━━━━━━━━━━━━━━━━━━\u001b[0m\u001b[37m\u001b[0m \u001b[1m3s\u001b[0m 3ms/step - accuracy: 0.8065 - loss: 0.5677 - val_accuracy: 0.7948 - val_loss: 0.5849\n",
            "Epoch 10/10\n",
            "\u001b[1m938/938\u001b[0m \u001b[32m━━━━━━━━━━━━━━━━━━━━\u001b[0m\u001b[37m\u001b[0m \u001b[1m3s\u001b[0m 3ms/step - accuracy: 0.8054 - loss: 0.5608 - val_accuracy: 0.8005 - val_loss: 0.5715\n",
            "Epoch 1/10\n",
            "\u001b[1m938/938\u001b[0m \u001b[32m━━━━━━━━━━━━━━━━━━━━\u001b[0m\u001b[37m\u001b[0m \u001b[1m4s\u001b[0m 3ms/step - accuracy: 0.7414 - loss: 0.8046 - val_accuracy: 0.8305 - val_loss: 0.4695\n",
            "Epoch 2/10\n",
            "\u001b[1m938/938\u001b[0m \u001b[32m━━━━━━━━━━━━━━━━━━━━\u001b[0m\u001b[37m\u001b[0m \u001b[1m3s\u001b[0m 3ms/step - accuracy: 0.8445 - loss: 0.4288 - val_accuracy: 0.8488 - val_loss: 0.4212\n",
            "Epoch 3/10\n",
            "\u001b[1m938/938\u001b[0m \u001b[32m━━━━━━━━━━━━━━━━━━━━\u001b[0m\u001b[37m\u001b[0m \u001b[1m3s\u001b[0m 3ms/step - accuracy: 0.8627 - loss: 0.3828 - val_accuracy: 0.8392 - val_loss: 0.4269\n",
            "Epoch 4/10\n",
            "\u001b[1m938/938\u001b[0m \u001b[32m━━━━━━━━━━━━━━━━━━━━\u001b[0m\u001b[37m\u001b[0m \u001b[1m3s\u001b[0m 3ms/step - accuracy: 0.8701 - loss: 0.3594 - val_accuracy: 0.8458 - val_loss: 0.4146\n",
            "Epoch 5/10\n",
            "\u001b[1m938/938\u001b[0m \u001b[32m━━━━━━━━━━━━━━━━━━━━\u001b[0m\u001b[37m\u001b[0m \u001b[1m3s\u001b[0m 3ms/step - accuracy: 0.8766 - loss: 0.3410 - val_accuracy: 0.8643 - val_loss: 0.3781\n",
            "Epoch 6/10\n",
            "\u001b[1m938/938\u001b[0m \u001b[32m━━━━━━━━━━━━━━━━━━━━\u001b[0m\u001b[37m\u001b[0m \u001b[1m3s\u001b[0m 3ms/step - accuracy: 0.8819 - loss: 0.3239 - val_accuracy: 0.8634 - val_loss: 0.3760\n",
            "Epoch 7/10\n",
            "\u001b[1m938/938\u001b[0m \u001b[32m━━━━━━━━━━━━━━━━━━━━\u001b[0m\u001b[37m\u001b[0m \u001b[1m3s\u001b[0m 3ms/step - accuracy: 0.8827 - loss: 0.3202 - val_accuracy: 0.8661 - val_loss: 0.3664\n",
            "Epoch 8/10\n",
            "\u001b[1m938/938\u001b[0m \u001b[32m━━━━━━━━━━━━━━━━━━━━\u001b[0m\u001b[37m\u001b[0m \u001b[1m3s\u001b[0m 3ms/step - accuracy: 0.8883 - loss: 0.3050 - val_accuracy: 0.8721 - val_loss: 0.3560\n",
            "Epoch 9/10\n",
            "\u001b[1m938/938\u001b[0m \u001b[32m━━━━━━━━━━━━━━━━━━━━\u001b[0m\u001b[37m\u001b[0m \u001b[1m4s\u001b[0m 4ms/step - accuracy: 0.8907 - loss: 0.2961 - val_accuracy: 0.8610 - val_loss: 0.3816\n",
            "Epoch 10/10\n",
            "\u001b[1m938/938\u001b[0m \u001b[32m━━━━━━━━━━━━━━━━━━━━\u001b[0m\u001b[37m\u001b[0m \u001b[1m3s\u001b[0m 3ms/step - accuracy: 0.8953 - loss: 0.2832 - val_accuracy: 0.8668 - val_loss: 0.3664\n",
            "Resultados del modelo con Adam:\n",
            "Loss y Accuracy por cada epoch:\n",
            "Epoch 1: Loss=0.5964, Accuracy=0.7998\n",
            "Epoch 2: Loss=0.4121, Accuracy=0.8518\n",
            "Epoch 3: Loss=0.3752, Accuracy=0.8652\n",
            "Epoch 4: Loss=0.3501, Accuracy=0.8742\n",
            "Epoch 5: Loss=0.3318, Accuracy=0.8798\n",
            "Epoch 6: Loss=0.3176, Accuracy=0.8841\n",
            "Epoch 7: Loss=0.3041, Accuracy=0.8893\n",
            "Epoch 8: Loss=0.2931, Accuracy=0.8936\n",
            "Epoch 9: Loss=0.2818, Accuracy=0.8971\n",
            "Epoch 10: Loss=0.2723, Accuracy=0.9008\n",
            "\n",
            "Loss y Accuracy en el conjunto de validación:\n",
            "Final Loss=0.3406, Final Accuracy=0.8743\n",
            "\n",
            "\n",
            "Resultados del modelo con SGD:\n",
            "Loss y Accuracy por cada epoch:\n",
            "Epoch 1: Loss=1.5457, Accuracy=0.6131\n",
            "Epoch 2: Loss=0.9700, Accuracy=0.7246\n",
            "Epoch 3: Loss=0.8039, Accuracy=0.7466\n",
            "Epoch 4: Loss=0.7237, Accuracy=0.7606\n",
            "Epoch 5: Loss=0.6742, Accuracy=0.7715\n",
            "Epoch 6: Loss=0.6391, Accuracy=0.7808\n",
            "Epoch 7: Loss=0.6122, Accuracy=0.7906\n",
            "Epoch 8: Loss=0.5902, Accuracy=0.7970\n",
            "Epoch 9: Loss=0.5723, Accuracy=0.8030\n",
            "Epoch 10: Loss=0.5572, Accuracy=0.8073\n",
            "\n",
            "Loss y Accuracy en el conjunto de validación:\n",
            "Final Loss=0.5715, Final Accuracy=0.8005\n",
            "\n",
            "\n",
            "Resultados del modelo con RMSprop:\n",
            "Loss y Accuracy por cada epoch:\n",
            "Epoch 1: Loss=0.5842, Accuracy=0.8021\n",
            "Epoch 2: Loss=0.4164, Accuracy=0.8496\n",
            "Epoch 3: Loss=0.3804, Accuracy=0.8622\n",
            "Epoch 4: Loss=0.3583, Accuracy=0.8705\n",
            "Epoch 5: Loss=0.3396, Accuracy=0.8767\n",
            "Epoch 6: Loss=0.3256, Accuracy=0.8811\n",
            "Epoch 7: Loss=0.3135, Accuracy=0.8850\n",
            "Epoch 8: Loss=0.3032, Accuracy=0.8882\n",
            "Epoch 9: Loss=0.2940, Accuracy=0.8914\n",
            "Epoch 10: Loss=0.2850, Accuracy=0.8960\n",
            "\n",
            "Loss y Accuracy en el conjunto de validación:\n",
            "Final Loss=0.3664, Final Accuracy=0.8668\n"
          ]
        }
      ],
      "source": [
        "(train_images, train_labels), (test_images, test_labels) = fashion_mnist.load_data()\n",
        "train_images = train_images / 255.0\n",
        "test_images = test_images / 255.0\n",
        "\n",
        "#Primer modelo de base con Adam:\n",
        "model_base = models.Sequential([\n",
        "    layers.Flatten(input_shape=(28, 28)), \n",
        "    layers.Dense(128, activation='sigmoid', kernel_initializer='glorot_uniform'),  \n",
        "    layers.Dense(10, activation='softmax')  \n",
        "])\n",
        "model_base.compile(optimizer='adam',\n",
        "                   loss='sparse_categorical_crossentropy',\n",
        "                   metrics=['accuracy'])\n",
        "\n",
        "history_adam = model_base.fit(train_images, train_labels, epochs=10, batch_size=64, validation_data=(test_images, test_labels))\n",
        "\n",
        "#Segundo Modelo con SGD como optimizador\n",
        "model_sgd = models.clone_model(model_base)\n",
        "model_sgd.compile(optimizer='sgd',\n",
        "                  loss='sparse_categorical_crossentropy',\n",
        "                  metrics=['accuracy'])\n",
        "history_sgd = model_sgd.fit(train_images, train_labels, epochs=10, batch_size=64, validation_data=(test_images, test_labels))\n",
        "\n",
        "#Tercer Modelo con RMSprop como optimizador\n",
        "model_rmsprop = models.clone_model(model_base)\n",
        "model_rmsprop.compile(optimizer='rmsprop',\n",
        "                      loss='sparse_categorical_crossentropy',\n",
        "                      metrics=['accuracy'])\n",
        "history_rmsprop = model_rmsprop.fit(train_images, train_labels, epochs=10, batch_size=64, validation_data=(test_images, test_labels))\n",
        "\n",
        "print(\"Resultados del modelo con Adam:\")\n",
        "print(\"Loss y Accuracy por cada epoch:\")\n",
        "for epoch, (loss, acc) in enumerate(zip(history_adam.history['loss'], history_adam.history['accuracy'])):\n",
        "    print(\"Epoch {}: Loss={:.4f}, Accuracy={:.4f}\".format(epoch+1, loss, acc))\n",
        "print(\"\\nLoss y Accuracy en el conjunto de validación:\")\n",
        "print(\"Final Loss={:.4f}, Final Accuracy={:.4f}\\n\".format(history_adam.history['val_loss'][-1], history_adam.history['val_accuracy'][-1]))\n",
        "\n",
        "print(\"\\nResultados del modelo con SGD:\")\n",
        "print(\"Loss y Accuracy por cada epoch:\")\n",
        "for epoch, (loss, acc) in enumerate(zip(history_sgd.history['loss'], history_sgd.history['accuracy'])):\n",
        "    print(\"Epoch {}: Loss={:.4f}, Accuracy={:.4f}\".format(epoch+1, loss, acc))\n",
        "print(\"\\nLoss y Accuracy en el conjunto de validación:\")\n",
        "print(\"Final Loss={:.4f}, Final Accuracy={:.4f}\\n\".format(history_sgd.history['val_loss'][-1], history_sgd.history['val_accuracy'][-1]))\n",
        "\n",
        "print(\"\\nResultados del modelo con RMSprop:\")\n",
        "print(\"Loss y Accuracy por cada epoch:\")\n",
        "for epoch, (loss, acc) in enumerate(zip(history_rmsprop.history['loss'], history_rmsprop.history['accuracy'])):\n",
        "    print(\"Epoch {}: Loss={:.4f}, Accuracy={:.4f}\".format(epoch+1, loss, acc))\n",
        "print(\"\\nLoss y Accuracy en el conjunto de validación:\")\n",
        "print(\"Final Loss={:.4f}, Final Accuracy={:.4f}\".format(history_rmsprop.history['val_loss'][-1], history_rmsprop.history['val_accuracy'][-1]))\n"
      ]
    },
    {
      "cell_type": "code",
      "execution_count": 30,
      "metadata": {
        "id": "AUJ5AtunTFqa"
      },
      "outputs": [
        {
          "name": "stdout",
          "output_type": "stream",
          "text": [
            "Epoch 1/35\n",
            "\u001b[1m469/469\u001b[0m \u001b[32m━━━━━━━━━━━━━━━━━━━━\u001b[0m\u001b[37m\u001b[0m \u001b[1m6s\u001b[0m 7ms/step - accuracy: 0.7017 - loss: 0.9490 - val_accuracy: 0.8427 - val_loss: 0.4371\n",
            "Epoch 2/35\n",
            "\u001b[1m469/469\u001b[0m \u001b[32m━━━━━━━━━━━━━━━━━━━━\u001b[0m\u001b[37m\u001b[0m \u001b[1m3s\u001b[0m 7ms/step - accuracy: 0.8411 - loss: 0.4724 - val_accuracy: 0.8514 - val_loss: 0.4076\n",
            "Epoch 3/35\n",
            "\u001b[1m469/469\u001b[0m \u001b[32m━━━━━━━━━━━━━━━━━━━━\u001b[0m\u001b[37m\u001b[0m \u001b[1m3s\u001b[0m 7ms/step - accuracy: 0.8555 - loss: 0.4154 - val_accuracy: 0.8521 - val_loss: 0.3953\n",
            "Epoch 4/35\n",
            "\u001b[1m469/469\u001b[0m \u001b[32m━━━━━━━━━━━━━━━━━━━━\u001b[0m\u001b[37m\u001b[0m \u001b[1m3s\u001b[0m 7ms/step - accuracy: 0.8742 - loss: 0.3713 - val_accuracy: 0.8647 - val_loss: 0.3843\n",
            "Epoch 5/35\n",
            "\u001b[1m469/469\u001b[0m \u001b[32m━━━━━━━━━━━━━━━━━━━━\u001b[0m\u001b[37m\u001b[0m \u001b[1m3s\u001b[0m 7ms/step - accuracy: 0.8783 - loss: 0.3503 - val_accuracy: 0.8735 - val_loss: 0.3505\n",
            "Epoch 6/35\n",
            "\u001b[1m469/469\u001b[0m \u001b[32m━━━━━━━━━━━━━━━━━━━━\u001b[0m\u001b[37m\u001b[0m \u001b[1m3s\u001b[0m 7ms/step - accuracy: 0.8832 - loss: 0.3325 - val_accuracy: 0.8765 - val_loss: 0.3496\n",
            "Epoch 7/35\n",
            "\u001b[1m469/469\u001b[0m \u001b[32m━━━━━━━━━━━━━━━━━━━━\u001b[0m\u001b[37m\u001b[0m \u001b[1m3s\u001b[0m 7ms/step - accuracy: 0.8863 - loss: 0.3208 - val_accuracy: 0.8759 - val_loss: 0.3431\n",
            "Epoch 8/35\n",
            "\u001b[1m469/469\u001b[0m \u001b[32m━━━━━━━━━━━━━━━━━━━━\u001b[0m\u001b[37m\u001b[0m \u001b[1m3s\u001b[0m 7ms/step - accuracy: 0.8951 - loss: 0.2985 - val_accuracy: 0.8742 - val_loss: 0.3445\n",
            "Epoch 9/35\n",
            "\u001b[1m469/469\u001b[0m \u001b[32m━━━━━━━━━━━━━━━━━━━━\u001b[0m\u001b[37m\u001b[0m \u001b[1m3s\u001b[0m 7ms/step - accuracy: 0.8960 - loss: 0.2927 - val_accuracy: 0.8725 - val_loss: 0.3437\n",
            "Epoch 10/35\n",
            "\u001b[1m469/469\u001b[0m \u001b[32m━━━━━━━━━━━━━━━━━━━━\u001b[0m\u001b[37m\u001b[0m \u001b[1m3s\u001b[0m 7ms/step - accuracy: 0.9016 - loss: 0.2766 - val_accuracy: 0.8760 - val_loss: 0.3363\n",
            "Epoch 11/35\n",
            "\u001b[1m469/469\u001b[0m \u001b[32m━━━━━━━━━━━━━━━━━━━━\u001b[0m\u001b[37m\u001b[0m \u001b[1m3s\u001b[0m 7ms/step - accuracy: 0.9021 - loss: 0.2751 - val_accuracy: 0.8799 - val_loss: 0.3334\n",
            "Epoch 12/35\n",
            "\u001b[1m469/469\u001b[0m \u001b[32m━━━━━━━━━━━━━━━━━━━━\u001b[0m\u001b[37m\u001b[0m \u001b[1m3s\u001b[0m 7ms/step - accuracy: 0.9068 - loss: 0.2602 - val_accuracy: 0.8796 - val_loss: 0.3484\n",
            "Epoch 13/35\n",
            "\u001b[1m469/469\u001b[0m \u001b[32m━━━━━━━━━━━━━━━━━━━━\u001b[0m\u001b[37m\u001b[0m \u001b[1m3s\u001b[0m 7ms/step - accuracy: 0.9099 - loss: 0.2535 - val_accuracy: 0.8853 - val_loss: 0.3281\n",
            "Epoch 14/35\n",
            "\u001b[1m469/469\u001b[0m \u001b[32m━━━━━━━━━━━━━━━━━━━━\u001b[0m\u001b[37m\u001b[0m \u001b[1m3s\u001b[0m 7ms/step - accuracy: 0.9120 - loss: 0.2439 - val_accuracy: 0.8879 - val_loss: 0.3150\n",
            "Epoch 15/35\n",
            "\u001b[1m469/469\u001b[0m \u001b[32m━━━━━━━━━━━━━━━━━━━━\u001b[0m\u001b[37m\u001b[0m \u001b[1m3s\u001b[0m 7ms/step - accuracy: 0.9131 - loss: 0.2458 - val_accuracy: 0.8904 - val_loss: 0.3126\n",
            "Epoch 16/35\n",
            "\u001b[1m469/469\u001b[0m \u001b[32m━━━━━━━━━━━━━━━━━━━━\u001b[0m\u001b[37m\u001b[0m \u001b[1m3s\u001b[0m 7ms/step - accuracy: 0.9159 - loss: 0.2292 - val_accuracy: 0.8800 - val_loss: 0.3349\n",
            "Epoch 17/35\n",
            "\u001b[1m469/469\u001b[0m \u001b[32m━━━━━━━━━━━━━━━━━━━━\u001b[0m\u001b[37m\u001b[0m \u001b[1m3s\u001b[0m 7ms/step - accuracy: 0.9157 - loss: 0.2260 - val_accuracy: 0.8885 - val_loss: 0.3368\n",
            "Epoch 18/35\n",
            "\u001b[1m469/469\u001b[0m \u001b[32m━━━━━━━━━━━━━━━━━━━━\u001b[0m\u001b[37m\u001b[0m \u001b[1m4s\u001b[0m 7ms/step - accuracy: 0.9192 - loss: 0.2235 - val_accuracy: 0.8827 - val_loss: 0.3442\n",
            "Epoch 19/35\n",
            "\u001b[1m469/469\u001b[0m \u001b[32m━━━━━━━━━━━━━━━━━━━━\u001b[0m\u001b[37m\u001b[0m \u001b[1m3s\u001b[0m 7ms/step - accuracy: 0.9203 - loss: 0.2138 - val_accuracy: 0.8940 - val_loss: 0.3166\n",
            "Epoch 20/35\n",
            "\u001b[1m469/469\u001b[0m \u001b[32m━━━━━━━━━━━━━━━━━━━━\u001b[0m\u001b[37m\u001b[0m \u001b[1m3s\u001b[0m 7ms/step - accuracy: 0.9248 - loss: 0.2065 - val_accuracy: 0.8909 - val_loss: 0.3305\n",
            "Epoch 21/35\n",
            "\u001b[1m469/469\u001b[0m \u001b[32m━━━━━━━━━━━━━━━━━━━━\u001b[0m\u001b[37m\u001b[0m \u001b[1m3s\u001b[0m 7ms/step - accuracy: 0.9275 - loss: 0.1993 - val_accuracy: 0.8918 - val_loss: 0.3339\n",
            "Epoch 22/35\n",
            "\u001b[1m469/469\u001b[0m \u001b[32m━━━━━━━━━━━━━━━━━━━━\u001b[0m\u001b[37m\u001b[0m \u001b[1m3s\u001b[0m 7ms/step - accuracy: 0.9261 - loss: 0.2005 - val_accuracy: 0.8821 - val_loss: 0.3594\n",
            "\u001b[1m313/313\u001b[0m \u001b[32m━━━━━━━━━━━━━━━━━━━━\u001b[0m\u001b[37m\u001b[0m \u001b[1m1s\u001b[0m 2ms/step - accuracy: 0.8907 - loss: 0.3227\n",
            "Accuracy on test set: 0.8903999924659729\n"
          ]
        }
      ],
      "source": [
        "from tensorflow.keras import layers, models, regularizers\n",
        "from tensorflow.keras.callbacks import EarlyStopping\n",
        "from tensorflow.keras.layers import BatchNormalization\n",
        "\n",
        "(train_images, train_labels), (test_images, test_labels) = fashion_mnist.load_data()\n",
        "train_images = train_images / 255.0\n",
        "test_images = test_images / 255.0\n",
        "\n",
        "model = models.Sequential([\n",
        "    layers.Flatten(input_shape=(28, 28)),\n",
        "    layers.Dense(512, activation='relu', kernel_regularizer=regularizers.l2(0.00000001)),\n",
        "    layers.Dense(128, activation='relu', kernel_regularizer=regularizers.l2(0.00000001)),\n",
        "    layers.Dense(64, activation='relu', kernel_regularizer=regularizers.l2(0.0000005)),\n",
        "    layers.Dropout(0.5),  # Dropout para evitar el overfitting\n",
        "    layers.BatchNormalization(),\n",
        "    layers.Dense(10, activation='softmax')\n",
        "])\n",
        "\n",
        "model.compile(optimizer='adam',\n",
        "              loss='sparse_categorical_crossentropy',\n",
        "              metrics=['accuracy'])\n",
        "\n",
        "early_stopping = EarlyStopping(monitor='val_loss', patience=7, restore_best_weights=True)\n",
        "\n",
        "history = model.fit(train_images, train_labels, epochs=35, batch_size=128, \n",
        "                    validation_data=(test_images, test_labels), callbacks=[early_stopping])\n",
        "\n",
        "test_loss, test_accuracy = model.evaluate(test_images, test_labels)\n",
        "print(\"Accuracy on test set:\", test_accuracy)\n"
      ]
    }
  ],
  "metadata": {
    "colab": {
      "name": "Actividad 1: Redes Neuronales.ipynb",
      "provenance": []
    },
    "kernelspec": {
      "display_name": "Python 3",
      "name": "python3"
    },
    "language_info": {
      "codemirror_mode": {
        "name": "ipython",
        "version": 3
      },
      "file_extension": ".py",
      "mimetype": "text/x-python",
      "name": "python",
      "nbconvert_exporter": "python",
      "pygments_lexer": "ipython3",
      "version": "3.11.9"
    }
  },
  "nbformat": 4,
  "nbformat_minor": 0
}
